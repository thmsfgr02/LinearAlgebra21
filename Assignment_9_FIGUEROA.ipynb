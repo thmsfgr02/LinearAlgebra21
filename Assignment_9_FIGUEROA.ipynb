{
  "nbformat": 4,
  "nbformat_minor": 0,
  "metadata": {
    "colab": {
      "name": "Assignment 9_FIGUEROA.ipynb",
      "provenance": [],
      "authorship_tag": "ABX9TyOq+qL6aioeWSoeRWHcgCCK",
      "include_colab_link": true
    },
    "kernelspec": {
      "name": "python3",
      "display_name": "Python 3"
    },
    "language_info": {
      "name": "python"
    }
  },
  "cells": [
    {
      "cell_type": "markdown",
      "metadata": {
        "id": "view-in-github",
        "colab_type": "text"
      },
      "source": [
        "<a href=\"https://colab.research.google.com/github/thmsfgr02/LinearAlgebra21/blob/main/Assignment_9_FIGUEROA.ipynb\" target=\"_parent\"><img src=\"https://colab.research.google.com/assets/colab-badge.svg\" alt=\"Open In Colab\"/></a>"
      ]
    },
    {
      "cell_type": "markdown",
      "metadata": {
        "id": "mdhlyckyl4l5"
      },
      "source": [
        "# **PLOTTING VECTOR USING NumPy and MatPLotLib**"
      ]
    },
    {
      "cell_type": "markdown",
      "metadata": {
        "id": "BT0WQdmZmKGW"
      },
      "source": [
        "In this laboratory we will be discussing the basics of numerical and scientific programming by working with Vectors using NumPy and MatPlotLib."
      ]
    },
    {
      "cell_type": "markdown",
      "metadata": {
        "id": "kKlsboR6mJ7u"
      },
      "source": [
        "Objectives\n",
        "At the end of this activity you will be able to:\n",
        "1. Be familiar with the libraries in Python for numerical and scientific programming.\n",
        "2. Visualize vectors through Python programming.\n",
        "3. Perform simple vector operations through code."
      ]
    },
    {
      "cell_type": "markdown",
      "metadata": {
        "id": "5JhDMR6pmScC"
      },
      "source": [
        "## **DISCUSSION**"
      ]
    },
    {
      "cell_type": "markdown",
      "metadata": {
        "id": "YCJacj0gmWUJ"
      },
      "source": [
        "### Numpy"
      ]
    },
    {
      "cell_type": "markdown",
      "metadata": {
        "id": "BbdNJhqDmeQc"
      },
      "source": [
        "> NumPy or Numerical Python, is mainly used for matrix and vector operations. It is capable of declaring computing and representing matrices. Most Python scientific programming libraries uses NumPy as the basic code.\n",
        "\n",
        "Scalars \\ Represent magnitude or a single value\n",
        "\n",
        "Vectors \\ Represent magnitude with directors"
      ]
    },
    {
      "cell_type": "markdown",
      "metadata": {
        "id": "dWFsUQOWmko1"
      },
      "source": [
        "### Representing Vectors"
      ]
    },
    {
      "cell_type": "markdown",
      "metadata": {
        "id": "C_pVpq7wmmh7"
      },
      "source": [
        "Now that you know how to represent vectors using their component and matrix form we can now hard-code them in Python. Let's say that you have the vectors:"
      ]
    },
    {
      "cell_type": "markdown",
      "metadata": {
        "id": "Vfx2bGTzmoyP"
      },
      "source": [
        "$$ A = 4\\hat{x} + 3\\hat{y} \\\\\n",
        "B = 2\\hat{x} - 5\\hat{y}\\\\\n",
        "C = 4ax + 3ay - 2az \\\\\n",
        "D = 2\\hat{i} - 2\\hat{j} + 3\\hat{k}$$"
      ]
    },
    {
      "cell_type": "markdown",
      "metadata": {
        "id": "ODKADHChmtKE"
      },
      "source": [
        "In which it's matrix equivalent is:"
      ]
    },
    {
      "cell_type": "markdown",
      "metadata": {
        "id": "6Ndu5GXkmtFF"
      },
      "source": [
        "$$ A = \\begin{bmatrix} 4 \\\\ 3\\end{bmatrix} , B = \\begin{bmatrix} 2 \\\\ -5\\end{bmatrix} , C = \\begin{bmatrix} 4 \\\\ 3 \\\\  -2 \\end{bmatrix}, D = \\begin{bmatrix} 2 \\\\ -2 \\\\ 3\\end{bmatrix}\n",
        "$$\n",
        "$$ A = \\begin{bmatrix} 4 & 3\\end{bmatrix} , B = \\begin{bmatrix} 2 & -5\\end{bmatrix} , C = \\begin{bmatrix} 4 & 3 & -2\\end{bmatrix} , D = \\begin{bmatrix} 2 & -2 & 3\\end{bmatrix} \n",
        "$$"
      ]
    },
    {
      "cell_type": "markdown",
      "metadata": {
        "id": "FY_5bSxWmxmy"
      },
      "source": [
        "We can then start doing numpy code with this by:"
      ]
    },
    {
      "cell_type": "code",
      "metadata": {
        "id": "fUeg-7Pom3QQ"
      },
      "source": [
        "## Importing necessary libraries\n",
        "import numpy as np ## 'np' here is short-hand name of the library (numpy) or a nickname."
      ],
      "execution_count": 1,
      "outputs": []
    },
    {
      "cell_type": "code",
      "metadata": {
        "colab": {
          "base_uri": "https://localhost:8080/"
        },
        "id": "N8MKKL_Bl1nV",
        "outputId": "54e401be-8702-46bb-f22a-d247a5222ec9"
      },
      "source": [
        "A = np.array([4, 3])\n",
        "B = np.array([2, -5])\n",
        "C = np.array([[4],\n",
        "              [3],\n",
        "              [-2]\n",
        "])\n",
        "D = np.array ([[2],\n",
        "              [-2],\n",
        "              [3]])\n",
        "print('Vector A is ', A)\n",
        "print('Vector B is ', B)\n",
        "print('Vector C is ', C)\n",
        "print('Vector D is ', D)"
      ],
      "execution_count": null,
      "outputs": [
        {
          "output_type": "stream",
          "name": "stdout",
          "text": [
            "Vector A is  [4 3]\n",
            "Vector B is  [ 2 -5]\n",
            "Vector C is  [[ 4]\n",
            " [ 3]\n",
            " [-2]]\n",
            "Vector D is  [[ 2]\n",
            " [-2]\n",
            " [ 3]]\n"
          ]
        }
      ]
    },
    {
      "cell_type": "markdown",
      "metadata": {
        "id": "zZl_N_tQoZd_"
      },
      "source": [
        "### Describing vectors in NumPy"
      ]
    },
    {
      "cell_type": "markdown",
      "metadata": {
        "id": "0e3U42spobX0"
      },
      "source": [
        "Describing vectors is very important if we want to perform basic to advanced operations with them. The fundamental ways in describing vectors are knowing their shape, size and dimensions."
      ]
    },
    {
      "cell_type": "code",
      "metadata": {
        "colab": {
          "base_uri": "https://localhost:8080/"
        },
        "id": "L8w2kLQTojXh",
        "outputId": "9f9bcf24-1d8c-47a5-acd0-8104bdb1e783"
      },
      "source": [
        "### Shapes tells us how many elements are there on each row and column\n",
        "\n",
        "A.shape\n",
        "H = np.array([1, 0, 2, 5, -0.2, 0])\n",
        "H.shape"
      ],
      "execution_count": null,
      "outputs": [
        {
          "output_type": "execute_result",
          "data": {
            "text/plain": [
              "(6,)"
            ]
          },
          "metadata": {},
          "execution_count": 8
        }
      ]
    },
    {
      "cell_type": "code",
      "metadata": {
        "colab": {
          "base_uri": "https://localhost:8080/"
        },
        "id": "LPazttVoo_sg",
        "outputId": "b57c1101-1305-47b4-fb93-f89853aacf65"
      },
      "source": [
        "### Array/Vector sizes tells us many total number of elements are there in the vector\n",
        "D.size"
      ],
      "execution_count": null,
      "outputs": [
        {
          "output_type": "execute_result",
          "data": {
            "text/plain": [
              "3"
            ]
          },
          "metadata": {},
          "execution_count": 10
        }
      ]
    },
    {
      "cell_type": "code",
      "metadata": {
        "colab": {
          "base_uri": "https://localhost:8080/"
        },
        "id": "L80jKl3Ko3s_",
        "outputId": "1b369e24-1a0f-4480-8929-f4c80daa65a3"
      },
      "source": [
        "### The dimensions or rank of a vector tells us how many dimensions are there for the vector.\n",
        "\n",
        "D.ndim"
      ],
      "execution_count": null,
      "outputs": [
        {
          "output_type": "execute_result",
          "data": {
            "text/plain": [
              "2"
            ]
          },
          "metadata": {},
          "execution_count": 7
        }
      ]
    },
    {
      "cell_type": "markdown",
      "metadata": {
        "id": "GfLkN5YapH7a"
      },
      "source": [
        "### **ADDITION**"
      ]
    },
    {
      "cell_type": "markdown",
      "metadata": {
        "id": "PCT2fvizpQdb"
      },
      "source": [
        "The addition rule is simple, the we just need to add the elements of the matrices according to their index. So in this case if we add vector $A$ and vector $B$ we will have a resulting vector:"
      ]
    },
    {
      "cell_type": "markdown",
      "metadata": {
        "id": "8P042lhkpvj6"
      },
      "source": [
        "$$R = 6\\hat{x}-2\\hat{y} \\\\ \\\\or \\\\ \\\\ R = \\begin{bmatrix} 6 \\\\ -2\\end{bmatrix} $$"
      ]
    },
    {
      "cell_type": "markdown",
      "metadata": {
        "id": "tp9HIq0fpxwW"
      },
      "source": [
        "So let's try to do that in NumPy in several number of ways:"
      ]
    },
    {
      "cell_type": "code",
      "metadata": {
        "id": "-hRccJxHp5Dc"
      },
      "source": [
        "R = np.add(A, B) ## this is the functional method usisng the numpy library\n",
        "P = np.add(C, D)"
      ],
      "execution_count": null,
      "outputs": []
    },
    {
      "cell_type": "code",
      "metadata": {
        "colab": {
          "base_uri": "https://localhost:8080/"
        },
        "id": "POMLQgI7p7ZR",
        "outputId": "7ed445ec-560f-4eb0-9cf4-b18c3f65127c"
      },
      "source": [
        "R = A + B   ## this is the explicit method, since Python does a value-reference so it can \n",
        "            ## know that these variables would need to do array operations.\n",
        "R"
      ],
      "execution_count": null,
      "outputs": [
        {
          "output_type": "execute_result",
          "data": {
            "text/plain": [
              "array([ 6, -2])"
            ]
          },
          "metadata": {},
          "execution_count": 12
        }
      ]
    },
    {
      "cell_type": "code",
      "metadata": {
        "colab": {
          "base_uri": "https://localhost:8080/"
        },
        "id": "s93QMCPpp-vE",
        "outputId": "d2fb06d0-b632-4282-a796-2499401c091e"
      },
      "source": [
        "pos1 = np.array([0,0,0])\n",
        "pos2 = np.array([0,1,3])\n",
        "pos3 = np.array([1,5,-2])\n",
        "pos4 = np.array([5,-3,3])\n",
        "#R = pos1 + pos2 + pos3 + pos4\n",
        "#R = np.multiply(pos3, pos4)\n",
        "R = pos3 / pos4\n",
        "R"
      ],
      "execution_count": null,
      "outputs": [
        {
          "output_type": "execute_result",
          "data": {
            "text/plain": [
              "array([ 0.2       , -1.66666667, -0.66666667])"
            ]
          },
          "metadata": {},
          "execution_count": 13
        }
      ]
    },
    {
      "cell_type": "markdown",
      "metadata": {
        "id": "LTOsgwnqqDwB"
      },
      "source": [
        "Try for yourself!"
      ]
    },
    {
      "cell_type": "markdown",
      "metadata": {
        "id": "0H1PBibyqB1n"
      },
      "source": [
        "Try to implement subtraction, multiplication, and division with vectors $A$ and $B$"
      ]
    },
    {
      "cell_type": "markdown",
      "metadata": {
        "id": "-KIZyO-dqRQm"
      },
      "source": [
        "$$X = \\begin{bmatrix}3 & -6\\end{bmatrix}, Y= \\begin{bmatrix}-2 & 4\\end{bmatrix}$$"
      ]
    },
    {
      "cell_type": "code",
      "metadata": {
        "colab": {
          "base_uri": "https://localhost:8080/"
        },
        "id": "BxH6FQdRqcPp",
        "outputId": "ea794a79-a1d6-43e2-9b93-37c5d22c63d4"
      },
      "source": [
        "vectX = np.array ([3, -6])\n",
        "vectY = np.array ([-2, 4])\n",
        "print(vectX)\n",
        "print(vectY)"
      ],
      "execution_count": null,
      "outputs": [
        {
          "output_type": "stream",
          "name": "stdout",
          "text": [
            "[ 3 -6]\n",
            "[-2  4]\n"
          ]
        }
      ]
    },
    {
      "cell_type": "markdown",
      "metadata": {
        "id": "eBmj8ebVsHGU"
      },
      "source": [
        "SUBTRACTION"
      ]
    },
    {
      "cell_type": "code",
      "metadata": {
        "colab": {
          "base_uri": "https://localhost:8080/"
        },
        "id": "_nFtgjS_sJnt",
        "outputId": "194789c4-3e0f-4224-936e-f1930811ee75"
      },
      "source": [
        "pos1 = np.array([3, -6])\n",
        "pos2 = np.array([-2, 4])\n",
        "\n",
        "Z = pos1 - pos2\n",
        "Z"
      ],
      "execution_count": null,
      "outputs": [
        {
          "output_type": "execute_result",
          "data": {
            "text/plain": [
              "array([  5, -10])"
            ]
          },
          "metadata": {},
          "execution_count": 18
        }
      ]
    },
    {
      "cell_type": "markdown",
      "metadata": {
        "id": "aW2cHmQtsJgi"
      },
      "source": [
        "DIVISION"
      ]
    },
    {
      "cell_type": "code",
      "metadata": {
        "colab": {
          "base_uri": "https://localhost:8080/"
        },
        "id": "eUMU3t2rsYb5",
        "outputId": "ace72bbc-4226-42a2-8c7e-7d985e585103"
      },
      "source": [
        "vect1 = np.array([3, -6])\n",
        "vect2 = np.array([-2, 4])\n",
        "\n",
        "Q = vect1 / vect2\n",
        "Q"
      ],
      "execution_count": null,
      "outputs": [
        {
          "output_type": "execute_result",
          "data": {
            "text/plain": [
              "array([-1.5, -1.5])"
            ]
          },
          "metadata": {},
          "execution_count": 20
        }
      ]
    },
    {
      "cell_type": "markdown",
      "metadata": {
        "id": "T-hxo1VJskyE"
      },
      "source": [
        "MULTIPLICATION"
      ]
    },
    {
      "cell_type": "code",
      "metadata": {
        "colab": {
          "base_uri": "https://localhost:8080/"
        },
        "id": "RmFzaxLXsl8e",
        "outputId": "4b390584-202d-4241-ff6f-96ad2d59daf9"
      },
      "source": [
        "vect1 = np.array([2, -5])\n",
        "vect2 = np.array([-4, 8])\n",
        "\n",
        "P = vect1 * vect2\n",
        "P"
      ],
      "execution_count": null,
      "outputs": [
        {
          "output_type": "execute_result",
          "data": {
            "text/plain": [
              "array([ -8, -40])"
            ]
          },
          "metadata": {},
          "execution_count": 21
        }
      ]
    },
    {
      "cell_type": "markdown",
      "metadata": {
        "id": "o5QpCZOUs1aX"
      },
      "source": [
        "### **SCALING**"
      ]
    },
    {
      "cell_type": "markdown",
      "metadata": {
        "id": "FGMzappws88p"
      },
      "source": [
        "Scaling or scalar multiplication takes a scalar value and performs multiplication with a vector. Let's take the example below:\n",
        "\n",
        "$$S = 5 \\cdot A$$"
      ]
    },
    {
      "cell_type": "markdown",
      "metadata": {
        "id": "HeTFYuxps-CF"
      },
      "source": [
        "We can do this in numpy through:"
      ]
    },
    {
      "cell_type": "code",
      "metadata": {
        "colab": {
          "base_uri": "https://localhost:8080/"
        },
        "id": "EKF9TIjAtAAJ",
        "outputId": "43e0392c-e7e3-4a0a-f099-1b516609a76e"
      },
      "source": [
        "#S = 5 * A\n",
        "S = np.multiply(5,A)\n",
        "S"
      ],
      "execution_count": null,
      "outputs": [
        {
          "output_type": "execute_result",
          "data": {
            "text/plain": [
              "array([20, 15])"
            ]
          },
          "metadata": {},
          "execution_count": 22
        }
      ]
    },
    {
      "cell_type": "markdown",
      "metadata": {
        "id": "WQVf_DqAtcIP"
      },
      "source": [
        "Try to implementing scaling with two vectors:"
      ]
    },
    {
      "cell_type": "code",
      "metadata": {
        "colab": {
          "base_uri": "https://localhost:8080/"
        },
        "id": "2Pgs3auPuXRn",
        "outputId": "ecc98e27-c123-4ea2-898d-d2c2be593970"
      },
      "source": [
        "##T = 8 * P\n",
        "##G = np.multiply(8 , vectA)\n",
        "G = np.multiply(8,A)\n",
        "G"
      ],
      "execution_count": null,
      "outputs": [
        {
          "output_type": "execute_result",
          "data": {
            "text/plain": [
              "array([32, 24])"
            ]
          },
          "metadata": {},
          "execution_count": 23
        }
      ]
    },
    {
      "cell_type": "code",
      "metadata": {
        "colab": {
          "base_uri": "https://localhost:8080/"
        },
        "id": "2xq3zvN9u589",
        "outputId": "c462dcbd-cded-450d-a36e-5ce00c6f71d9"
      },
      "source": [
        "##P = 12 * U\n",
        "##P = np.multiply(12 , vectA)\n",
        "P = np.multiply(12,B)\n",
        "P"
      ],
      "execution_count": null,
      "outputs": [
        {
          "output_type": "execute_result",
          "data": {
            "text/plain": [
              "array([ 24, -60])"
            ]
          },
          "metadata": {},
          "execution_count": 25
        }
      ]
    },
    {
      "cell_type": "markdown",
      "metadata": {
        "id": "rhYeC5MuwHHt"
      },
      "source": [
        "# **MatPlotLib**\n",
        "MatPlotLib or MATLab Plotting library is Python's take on MATLabs plotting feature. MatPlotLib can be used vastly from graping values to visualizing several dimensions of data.\n",
        "\n"
      ]
    },
    {
      "cell_type": "markdown",
      "metadata": {
        "id": "aTNczEJQvYvi"
      },
      "source": [
        "### **Visualizing Data**"
      ]
    },
    {
      "cell_type": "markdown",
      "metadata": {
        "id": "Lqupx_dIvcpe"
      },
      "source": [
        "It's not enough just solving these vectors so might need to visualize them. So we'll use MatPlotLib for that. We'll need to import it first."
      ]
    },
    {
      "cell_type": "code",
      "metadata": {
        "id": "RpsKBCJpvfbO"
      },
      "source": [
        "import matplotlib.pyplot as plt\n",
        "import matplotlib\n",
        "%matplotlib inline"
      ],
      "execution_count": 2,
      "outputs": []
    },
    {
      "cell_type": "code",
      "metadata": {
        "colab": {
          "base_uri": "https://localhost:8080/",
          "height": 264
        },
        "id": "gtqFQXaVvmIf",
        "outputId": "ed5bb295-fcba-4d8b-a21d-8e7cb4557c1f"
      },
      "source": [
        "A = [1, -1]\n",
        "B = [5, 2]\n",
        "plt.scatter(A[0], A[1], label='A', c='green')\n",
        "plt.scatter(B[0], B[1], label='B', c='magenta')\n",
        "plt.grid()\n",
        "plt.legend()\n",
        "plt.show()"
      ],
      "execution_count": 3,
      "outputs": [
        {
          "output_type": "display_data",
          "data": {
            "image/png": "[encoded data removed]",
            "text/plain": [
              "<Figure size 432x288 with 1 Axes>"
            ]
          },
          "metadata": {
            "needs_background": "light"
          }
        }
      ]
    },
    {
      "cell_type": "code",
      "metadata": {
        "id": "A0QSF09zxgn2",
        "outputId": "5b0450c3-7cef-4bc3-c94d-993132dc3d3b",
        "colab": {
          "base_uri": "https://localhost:8080/",
          "height": 364
        }
      },
      "source": [
        "A = np.array([1, -1])\n",
        "B = np.array([1, 5])\n",
        "plt.title(\"Resultant Vector\\nMagnitude:{}\" .format(Magnitude))\n",
        "plt.xlim(-5, 5)\n",
        "plt.ylim(-5, 5)\n",
        "plt.quiver(0, 0, A[0], A[1], angles='xy', scale_units='xy', scale=1, color='red')\n",
        "plt.quiver(A[0], A[1], B[0], B[1], angles='xy', scale_units='xy', scale=1, color='green')\n",
        "R = A + B\n",
        "plt.quiver(0, 0, R[0], R[1], angles='xy', scale_units='xy', scale=1, color='black')\n",
        "plt.grid()\n",
        "plt.show()\n",
        "print(R)\n",
        "Magnitude = np.sqrt(np.sum(R**2))\n",
        "print(Magnitude)\n",
        "Slope = R[1]/R[0]\n",
        "print(Slope)\n",
        "Angle = (np.arctan(Slope))*(180/np.pi)\n",
        "print(Angle)"
      ],
      "execution_count": 6,
      "outputs": [
        {
          "output_type": "display_data",
          "data": {
            "image/png": "[encoded data removed]",
            "text/plain": [
              "<Figure size 432x288 with 1 Axes>"
            ]
          },
          "metadata": {
            "needs_background": "light"
          }
        },
        {
          "output_type": "stream",
          "name": "stdout",
          "text": [
            "[2 4]\n",
            "4.47213595499958\n",
            "2.0\n",
            "63.43494882292201\n"
          ]
        }
      ]
    },
    {
      "cell_type": "markdown",
      "metadata": {
        "id": "6FT8DEkHx954"
      },
      "source": [
        "Try plotting Three Vectors and show the Resultant Vector as a result. Use Head to Tail Method."
      ]
    },
    {
      "cell_type": "code",
      "metadata": {
        "id": "d0LyEem1xc4i",
        "outputId": "da81f0e3-a8e4-47a6-9f20-16e413559d87",
        "colab": {
          "base_uri": "https://localhost:8080/",
          "height": 364
        }
      },
      "source": [
        "A = np.array([8, 3])\n",
        "B = np.array([7, -2])\n",
        "plt.title(\"Resultant Vector\\nMagnitude:{}\" .format(Magnitude))\n",
        "plt.xlim(-15, 15)\n",
        "plt.ylim(-15, 15)\n",
        "plt.quiver(0, 0, A[0], A[1], angles='xy', scale_units='xy', scale=1, color='cyan')\n",
        "plt.quiver(A[0], A[1], B[0], B[1], angles='xy', scale_units='xy', scale=1, color='violet')\n",
        "R = A + B\n",
        "plt.quiver(0, 0, R[0], R[1], angles='xy', scale_units='xy', scale=1, color='orange')\n",
        "plt.grid()\n",
        "plt.show()\n",
        "print(R)\n",
        "Magnitude = np.sqrt(np.sum(R**2))\n",
        "print(Magnitude)\n",
        "Slope = R[1]/R[0]\n",
        "print(Slope)\n",
        "Angle = (np.arctan(Slope))*(180/np.pi)\n",
        "print(Angle)"
      ],
      "execution_count": 11,
      "outputs": [
        {
          "output_type": "display_data",
          "data": {
            "image/png": "[encoded data removed]",
            "text/plain": [
              "<Figure size 432x288 with 1 Axes>"
            ]
          },
          "metadata": {
            "needs_background": "light"
          }
        },
        {
          "output_type": "stream",
          "name": "stdout",
          "text": [
            "[15  1]\n",
            "15.033296378372908\n",
            "0.06666666666666667\n",
            "3.8140748342903543\n"
          ]
        }
      ]
    },
    {
      "cell_type": "code",
      "metadata": {
        "id": "Q319OzS0y94x",
        "outputId": "aad43bd2-d4f0-4585-da20-d262776c2cc1",
        "colab": {
          "base_uri": "https://localhost:8080/",
          "height": 364
        }
      },
      "source": [
        "A = np.array([6, -7])\n",
        "B = np.array([5, 4])\n",
        "plt.title(\"Resultant Vector\\nMagnitude:{}\" .format(Magnitude))\n",
        "plt.xlim(-15, 15)\n",
        "plt.ylim(-15, 15)\n",
        "plt.quiver(0, 0, A[0], A[1], angles='xy', scale_units='xy', scale=1, color='cyan')\n",
        "plt.quiver(A[0], A[1], B[0], B[1], angles='xy', scale_units='xy', scale=1, color='violet')\n",
        "R = A + B\n",
        "plt.quiver(0, 0, R[0], R[1], angles='xy', scale_units='xy', scale=1, color='orange')\n",
        "plt.grid()\n",
        "plt.show()\n",
        "print(R)\n",
        "Magnitude = np.sqrt(np.sum(R**2))\n",
        "print(Magnitude)\n",
        "Slope = R[1]/R[0]\n",
        "print(Slope)\n",
        "Angle = (np.arctan(Slope))*(180/np.pi)\n",
        "print(Angle)"
      ],
      "execution_count": 12,
      "outputs": [
        {
          "output_type": "display_data",
          "data": {
            "image/png": "[encoded data removed]",
            "text/plain": [
              "<Figure size 432x288 with 1 Axes>"
            ]
          },
          "metadata": {
            "needs_background": "light"
          }
        },
        {
          "output_type": "stream",
          "name": "stdout",
          "text": [
            "[11 -3]\n",
            "11.40175425099138\n",
            "-0.2727272727272727\n",
            "-15.255118703057775\n"
          ]
        }
      ]
    },
    {
      "cell_type": "markdown",
      "metadata": {
        "id": "KacgNXWH3-GY"
      },
      "source": [
        "**MATPLOTLIB** flowchart:"
      ]
    },
    {
      "cell_type": "markdown",
      "metadata": {
        "id": "KFK0X8rw37ns"
      },
      "source": [
        "![image.png](data:image/png;base64,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)"
      ]
    },
    {
      "cell_type": "markdown",
      "metadata": {
        "id": "ghVOla3N4YwU"
      },
      "source": [
        "## **CONCLUSION**\n",
        "> Python is a great tool for Data Science because of the large amount of packages and libraries available. These packages and libraries help us visualize and analyze data more effectively, allowing us to get the most out of our time. Numpy and Matplotlib are two examples of Python packages that we used in this laboratory experiment.\n",
        "\n",
        ">This exercise demonstrated that computations are not the operations that Python Programming can do, but also plotting different sorts of plots such as Bar Graph, Scatter Plot, Box Plot, and so on, using the function keys numpy (used to execute arrays supplied in each set) and matplotlib (creates lines or animations for plotting). "
      ]
    }
  ]
}