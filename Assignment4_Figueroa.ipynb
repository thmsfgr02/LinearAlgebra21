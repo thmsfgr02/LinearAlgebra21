{
  "nbformat": 4,
  "nbformat_minor": 0,
  "metadata": {
    "colab": {
      "name": "Assignment4_Figueroa.ipynb",
      "provenance": [],
      "authorship_tag": "ABX9TyM/6Bj4e/jk8Rh9Wp87F7yB",
      "include_colab_link": true
    },
    "kernelspec": {
      "name": "python3",
      "display_name": "Python 3"
    },
    "language_info": {
      "name": "python"
    }
  },
  "cells": [
    {
      "cell_type": "markdown",
      "metadata": {
        "id": "view-in-github",
        "colab_type": "text"
      },
      "source": [
        "<a href=\"https://colab.research.google.com/github/thmsfgr02/LinearAlgebra21/blob/main/Assignment4_Figueroa.ipynb\" target=\"_parent\"><img src=\"https://colab.research.google.com/assets/colab-badge.svg\" alt=\"Open In Colab\"/></a>"
      ]
    },
    {
      "cell_type": "markdown",
      "metadata": {
        "id": "rdZtuPIGQmOg"
      },
      "source": [
        "# **Linear Algebra for ECE**\n",
        "## Laboratory 4: Matrices"
      ]
    },
    {
      "cell_type": "markdown",
      "metadata": {
        "id": "WL2v8aLPRSPf"
      },
      "source": [
        "### *Objectives*\n",
        "At the end of this activity you will be able to:\n",
        "1. Be familiar with matrices and their relation to linear equations.\n",
        "2. Perform basic matrix operations.\n",
        "3. Program and translate matrix equations and operations using Python."
      ]
    },
    {
      "cell_type": "code",
      "metadata": {
        "id": "91YKDjyXRVz9"
      },
      "source": [
        "import numpy as np\n",
        "import matplotlib.pyplot as plt\n",
        "import scipy.linalg as la\n",
        "%matplotlib inline"
      ],
      "execution_count": 12,
      "outputs": []
    },
    {
      "cell_type": "markdown",
      "metadata": {
        "id": "yqjV0m5WRx0B"
      },
      "source": [
        "## **MATRICES** \n",
        "<blockquote> The notation and use of matrices is probably one of the fundamentals of modern computing. Matrices are also handy representations of complex equations or multiple inter-related equations from 2-dimensional equations to even hundreds and thousands of them."
      ]
    },
    {
      "cell_type": "markdown",
      "metadata": {
        "id": "w2VJwmsMSGMJ"
      },
      "source": [
        "Let's say for example you have $A$ and $B$ as system of equation."
      ]
    },
    {
      "cell_type": "markdown",
      "metadata": {
        "id": "TZp3Zj9DSGBa"
      },
      "source": [
        "$$\n",
        "A = \\left\\{\n",
        "    \\begin{array}\\\n",
        "        x + y \\\\ \n",
        "        4x - 10y\n",
        "    \\end{array}\n",
        "\\right. \\\\\n",
        "B = \\left\\{\n",
        "    \\begin{array}\\\n",
        "        x+y+z \\\\ \n",
        "        3x -2y -z \\\\\n",
        "        -x + 4y +2z\n",
        "    \\end{array}\n",
        "\\right. $$"
      ]
    },
    {
      "cell_type": "markdown",
      "metadata": {
        "id": "zjhZVtqxShtV"
      },
      "source": [
        "We could see that $A$ is a system of 2 equations with 2 parameters. While $B$ is a system of 3 equations with 3 parameters. We can represent them as matrices:"
      ]
    },
    {
      "cell_type": "markdown",
      "metadata": {
        "id": "a1diAK-NShkO"
      },
      "source": [
        "$$\n",
        "A=\\begin{bmatrix} 1 & 1 \\\\ 4 & {-10}\\end{bmatrix} \\\\\n",
        "B=\\begin{bmatrix} 1 & 1 & 1 \\\\ 3 & -2 & -1 \\\\ -1 & 4 & 2\\end{bmatrix}\n",
        "$$\n",
        "\n"
      ]
    },
    {
      "cell_type": "markdown",
      "metadata": {
        "id": "OugjyTdES7OV"
      },
      "source": [
        "## *Declaring Matrices*\n",
        "\n",
        "<blockquote> Just like our previous laboratory activity, we'll represent system of linear equations as a matrix. The entities or numbers in matrices are called the elements of a matrix. These elements are arranged and ordered in rows and columns which form the list/array-like structure of matrices. And just like arrays, these elements are indexed according to their position with respect to their rows and columns. This can be represent just like the equation below. Whereas, $A$ is a matrix consisting of elements denoted by Aij. Denoted by i is the number of rows in the matrix while $j$ stands for the number of columns. </blockquote>\n",
        "\n",
        "Do note that the $size$ of a matrix is $i$ x $j$\n"
      ]
    },
    {
      "cell_type": "markdown",
      "metadata": {
        "id": "x5od0zz2TVuf"
      },
      "source": [
        "$$A=\\begin{bmatrix}\n",
        "a_{(0,0)}&a_{(0,1)}&\\dots&a_{(0,j-1)}\\\\\n",
        "a_{(1,0)}&a_{(1,1)}&\\dots&a_{(1,j-1)}\\\\\n",
        "\\vdots&\\vdots&\\ddots&\\vdots&\\\\\n",
        "a_{(i-1,0)}&a_{(i-1,1)}&\\dots&a_{(i-1,j-1)}\n",
        "\\end{bmatrix}\n",
        "$$"
      ]
    },
    {
      "cell_type": "markdown",
      "metadata": {
        "id": "T9BOVpKhTdjI"
      },
      "source": [
        "We already gone over some of the types of matrices but we'll further discuss them in this laboratory activity. Since you already know how to describe vectors using **shape**, **dimension**, and **size** attributes of the matrices, we will do it in this platform."
      ]
    },
    {
      "cell_type": "code",
      "metadata": {
        "id": "rMe3EZj1UPMf"
      },
      "source": [
        "## Since we'll keep on describing matrices. Let's make a function.\n",
        "def describe_mat(matrix):\n",
        "    print(f'Matrix:\\n{matrix}\\n\\nShape:\\t{matrix.shape}\\nRank:\\t{matrix.ndim}\\n')"
      ],
      "execution_count": 13,
      "outputs": []
    },
    {
      "cell_type": "code",
      "metadata": {
        "colab": {
          "base_uri": "https://localhost:8080/"
        },
        "id": "dh4RybdeUPGK",
        "outputId": "6f35b4e8-f375-4b00-848f-f2a1cc6aa166"
      },
      "source": [
        "## Declaring a 2 x 2 matrix\n",
        "A = np.array([\n",
        "      [1, 2],\n",
        "      [3,1]\n",
        "])\n",
        "describe_mat(A)"
      ],
      "execution_count": 14,
      "outputs": [
        {
          "output_type": "stream",
          "name": "stdout",
          "text": [
            "Matrix:\n",
            "[[1 2]\n",
            " [3 1]]\n",
            "\n",
            "Shape:\t(2, 2)\n",
            "Rank:\t2\n",
            "\n"
          ]
        }
      ]
    },
    {
      "cell_type": "code",
      "metadata": {
        "colab": {
          "base_uri": "https://localhost:8080/"
        },
        "id": "Yj_8jFNXUO9a",
        "outputId": "ac4bcd62-1107-4965-a04a-37316e616d5a"
      },
      "source": [
        "G = np.array([\n",
        "    [4,1],\n",
        "    [2,2]\n",
        "])\n",
        "describe_mat(G)"
      ],
      "execution_count": 15,
      "outputs": [
        {
          "output_type": "stream",
          "name": "stdout",
          "text": [
            "Matrix:\n",
            "[[4 1]\n",
            " [2 2]]\n",
            "\n",
            "Shape:\t(2, 2)\n",
            "Rank:\t2\n",
            "\n"
          ]
        }
      ]
    },
    {
      "cell_type": "code",
      "metadata": {
        "colab": {
          "base_uri": "https://localhost:8080/"
        },
        "id": "oSrYAIZZWVN5",
        "outputId": "2050e98b-bf46-45df-ba9b-4183f7d54b18"
      },
      "source": [
        "## Declaring a 3 x 2 matrix\n",
        "B = np.array([     \n",
        "    [8,2],\n",
        "    [5,4],\n",
        "    [1,1]\n",
        "])\n",
        "describe_mat (B)"
      ],
      "execution_count": 16,
      "outputs": [
        {
          "output_type": "stream",
          "name": "stdout",
          "text": [
            "Matrix:\n",
            "[[8 2]\n",
            " [5 4]\n",
            " [1 1]]\n",
            "\n",
            "Shape:\t(3, 2)\n",
            "Rank:\t2\n",
            "\n"
          ]
        }
      ]
    },
    {
      "cell_type": "code",
      "metadata": {
        "colab": {
          "base_uri": "https://localhost:8080/"
        },
        "id": "ZsJ_r6nKWVDr",
        "outputId": "a6377bc1-0dec-4c0d-ade7-b2013c9246d9"
      },
      "source": [
        "H = np.array([1, 2, 3, 4, 5,])\n",
        "describe_mat(H)"
      ],
      "execution_count": 17,
      "outputs": [
        {
          "output_type": "stream",
          "name": "stdout",
          "text": [
            "Matrix:\n",
            "[1 2 3 4 5]\n",
            "\n",
            "Shape:\t(5,)\n",
            "Rank:\t1\n",
            "\n"
          ]
        }
      ]
    },
    {
      "cell_type": "markdown",
      "metadata": {
        "id": "WQqKwrqFWclT"
      },
      "source": [
        "## *Categorizing Matrices*\n",
        "<blockquote> There are several ways of classifying matrices. Once could be according to their **shape** and another is according to their **element values**. We'll try to go through them."
      ]
    },
    {
      "cell_type": "markdown",
      "metadata": {
        "id": "y9uP4I4aWlFe"
      },
      "source": [
        "### *ROW AND COLUMN MATRICES*"
      ]
    },
    {
      "cell_type": "markdown",
      "metadata": {
        "id": "uiSeeER_XJsX"
      },
      "source": [
        "Row and column matrices are common in vector and matrix computations. They can also represent row and column spaces of a bigger vector space. Row and column matrices are represented by a single column or single row. So with that being, the shape of row matrices would be $1$ x $j$ and column matrices would $i$ x $1$"
      ]
    },
    {
      "cell_type": "code",
      "metadata": {
        "colab": {
          "base_uri": "https://localhost:8080/"
        },
        "id": "pBV39yNJWkwU",
        "outputId": "57d281e1-a371-49d8-db8c-6f3bbdb1a195"
      },
      "source": [
        "## Declaring a Row Matrix\n",
        "\n",
        "row_mat_1D = np.array([\n",
        "   1, 3, 2                     \n",
        "]) ## this is a 1-D Matrix with a shape of (3,), it's not really considered as a row matrix\n",
        "row_mat_2D = np.array([\n",
        "       [1,2,3]                \n",
        "]) ## this is a 2-D Matrix with a shape of (3,1)\n",
        "describe_mat(row_mat_1D)\n",
        "describe_mat(row_mat_2D)"
      ],
      "execution_count": 18,
      "outputs": [
        {
          "output_type": "stream",
          "name": "stdout",
          "text": [
            "Matrix:\n",
            "[1 3 2]\n",
            "\n",
            "Shape:\t(3,)\n",
            "Rank:\t1\n",
            "\n",
            "Matrix:\n",
            "[[1 2 3]]\n",
            "\n",
            "Shape:\t(1, 3)\n",
            "Rank:\t2\n",
            "\n"
          ]
        }
      ]
    },
    {
      "cell_type": "code",
      "metadata": {
        "colab": {
          "base_uri": "https://localhost:8080/"
        },
        "id": "wPWz5466XP24",
        "outputId": "358dc239-d37a-4038-e59a-f9a7fe115b1b"
      },
      "source": [
        "## Declaring a Column Matrix\n",
        "\n",
        "col_mat = np.array([\n",
        "    [1],\n",
        "    [2],\n",
        "    [5]                \n",
        "]) ## this is a 2-D matrix with a shape of (3,1)\n",
        "describe_mat(col_mat)"
      ],
      "execution_count": 19,
      "outputs": [
        {
          "output_type": "stream",
          "name": "stdout",
          "text": [
            "Matrix:\n",
            "[[1]\n",
            " [2]\n",
            " [5]]\n",
            "\n",
            "Shape:\t(3, 1)\n",
            "Rank:\t2\n",
            "\n"
          ]
        }
      ]
    },
    {
      "cell_type": "markdown",
      "metadata": {
        "id": "WeitAJmZXcI_"
      },
      "source": [
        "### *SQUARE MATRICES* "
      ]
    },
    {
      "cell_type": "markdown",
      "metadata": {
        "id": "KytbzN0CXiJI"
      },
      "source": [
        "Square matrices are matrices that have the same row and column sizes. We could say a matrix is square if $i=j$. We can tweak our matrix descriptor function to determine square matrices."
      ]
    },
    {
      "cell_type": "code",
      "metadata": {
        "id": "uu-sFnBvXPx2"
      },
      "source": [
        "def describe_mat(matrix):\n",
        "  is_square = True if matrix.shape[0] == matrix.shape[1] else False\n",
        "  print (f'Matrix:\\n{matrix}\\n\\nShape:\\t{matrix.shape}\\nRank:\\t{matrix.ndim}\\nIs Square: {is_square}\\n')"
      ],
      "execution_count": 20,
      "outputs": []
    },
    {
      "cell_type": "code",
      "metadata": {
        "colab": {
          "base_uri": "https://localhost:8080/"
        },
        "id": "VBA0Wg-_XnWY",
        "outputId": "97c107ff-6469-4bb6-b941-5b3d572ecd08"
      },
      "source": [
        "square_mat = np.array([\n",
        "    [1,2,5],\n",
        "    [3,3,8],\n",
        "    [6,1,2]                   \n",
        "])\n",
        "\n",
        "non_square_mat = np.array([\n",
        "   [1,2,5],\n",
        "   [3,3,8]\n",
        "])\n",
        "describe_mat(square_mat)\n",
        "describe_mat(non_square_mat)"
      ],
      "execution_count": 21,
      "outputs": [
        {
          "output_type": "stream",
          "name": "stdout",
          "text": [
            "Matrix:\n",
            "[[1 2 5]\n",
            " [3 3 8]\n",
            " [6 1 2]]\n",
            "\n",
            "Shape:\t(3, 3)\n",
            "Rank:\t2\n",
            "Is Square: True\n",
            "\n",
            "Matrix:\n",
            "[[1 2 5]\n",
            " [3 3 8]]\n",
            "\n",
            "Shape:\t(2, 3)\n",
            "Rank:\t2\n",
            "Is Square: False\n",
            "\n"
          ]
        }
      ]
    },
    {
      "cell_type": "markdown",
      "metadata": {
        "id": "UN-notmAX9R5"
      },
      "source": [
        "## ***According to element values*** \n"
      ]
    },
    {
      "cell_type": "markdown",
      "metadata": {
        "id": "C05puTtNYJ7J"
      },
      "source": [
        "A ***Null Matrix*** is a matrix that has no elements. It is always a subspace of any vector or matrix."
      ]
    },
    {
      "cell_type": "code",
      "metadata": {
        "id": "43kxBW92ZYbr"
      },
      "source": [
        "def describe_mat(matrix):\n",
        "  if matrix.size > 0:\n",
        "    is_square = True if matrix.shape[0] == matrix.shape[1] else False\n",
        "    print (f'Matrix:\\n{matrix}\\n\\nShape:\\t{matrix.shape}\\nRank:\\t{matrix.ndim}\\nIs Square: {is_square}\\n')\n",
        "  else:\n",
        "    print('Matrix is Null')"
      ],
      "execution_count": 22,
      "outputs": []
    },
    {
      "cell_type": "code",
      "metadata": {
        "colab": {
          "base_uri": "https://localhost:8080/"
        },
        "id": "VXmQjUpiZaKK",
        "outputId": "4e9a44f8-2ae8-4f3f-a7fd-682b74e6d406"
      },
      "source": [
        "null_mat = np.array([])\n",
        "describe_mat(null_mat)"
      ],
      "execution_count": 23,
      "outputs": [
        {
          "output_type": "stream",
          "name": "stdout",
          "text": [
            "Matrix is Null\n"
          ]
        }
      ]
    },
    {
      "cell_type": "markdown",
      "metadata": {
        "id": "nWDUZcJCZdCT"
      },
      "source": [
        "A ***zero matrix*** can be any rectangular matrix but with all elements having a value of 0."
      ]
    },
    {
      "cell_type": "code",
      "metadata": {
        "colab": {
          "base_uri": "https://localhost:8080/"
        },
        "id": "-1xE5tP5Ziz_",
        "outputId": "b6b1e0b4-9502-4d0c-d702-884be5c5b91b"
      },
      "source": [
        "zero_mat_row = np.zeros((1,2))\n",
        "zero_mat_sqr = np.zeros((2,2))\n",
        "zero_mat_rct = np.zeros((3,2))\n",
        "zero_4x4 = np.zeros((4,4))\n",
        "\n",
        "print(f'Zero Row Matrix: \\n{zero_mat_row}')\n",
        "print(f'Zero Square Matrix: \\n{zero_mat_sqr}')\n",
        "print(f'Zero Rectangular Matrix: \\n{zero_mat_rct}')\n",
        "print(f'Zero Matrix 4x4: \\n{zero_4x4}')\n"
      ],
      "execution_count": 24,
      "outputs": [
        {
          "output_type": "stream",
          "name": "stdout",
          "text": [
            "Zero Row Matrix: \n",
            "[[0. 0.]]\n",
            "Zero Square Matrix: \n",
            "[[0. 0.]\n",
            " [0. 0.]]\n",
            "Zero Rectangular Matrix: \n",
            "[[0. 0.]\n",
            " [0. 0.]\n",
            " [0. 0.]]\n",
            "Zero Matrix 4x4: \n",
            "[[0. 0. 0. 0.]\n",
            " [0. 0. 0. 0.]\n",
            " [0. 0. 0. 0.]\n",
            " [0. 0. 0. 0.]]\n"
          ]
        }
      ]
    },
    {
      "cell_type": "markdown",
      "metadata": {
        "id": "5G23UjACZ23h"
      },
      "source": [
        "A ***ones matrix***, just like the zero matrix, can be any rectangular matrix but all of its elements are 1s instead of 0s."
      ]
    },
    {
      "cell_type": "code",
      "metadata": {
        "colab": {
          "base_uri": "https://localhost:8080/"
        },
        "id": "sYOVOCoaZ7p-",
        "outputId": "e2a744aa-1b9e-48c6-d4be-df5163a36279"
      },
      "source": [
        "ones_mat_row = np.ones((1,2))\n",
        "ones_mat_sqr = np.ones((2,2))\n",
        "ones_mat_rct = np.ones((3,2))\n",
        "\n",
        "\n",
        "print(f'Ones Row Matrix: \\n{ones_mat_row}')\n",
        "print(f'Ones square Matrix: \\n{ones_mat_sqr}')\n",
        "print(f'Ones Rectangular Matrix: \\n{ones_mat_rct}')"
      ],
      "execution_count": 25,
      "outputs": [
        {
          "output_type": "stream",
          "name": "stdout",
          "text": [
            "Ones Row Matrix: \n",
            "[[1. 1.]]\n",
            "Ones square Matrix: \n",
            "[[1. 1.]\n",
            " [1. 1.]]\n",
            "Ones Rectangular Matrix: \n",
            "[[1. 1.]\n",
            " [1. 1.]\n",
            " [1. 1.]]\n"
          ]
        }
      ]
    },
    {
      "cell_type": "markdown",
      "metadata": {
        "id": "PrwENZA7Z-wM"
      },
      "source": [
        "A ***diagonal matrix*** is a square matrix that has values only at the diagonal of the matrix."
      ]
    },
    {
      "cell_type": "code",
      "metadata": {
        "colab": {
          "base_uri": "https://localhost:8080/"
        },
        "id": "Rzr3RgDTaClq",
        "outputId": "48bb429b-bddf-4d44-dc8f-ed7bacc271a0"
      },
      "source": [
        "np.array([\n",
        "   [2,0,0],\n",
        "   [0,3,0],\n",
        "   [0,0,5]\n",
        "])\n",
        "# a[1,1], a[2,2], a[3,3], ... a[n-1,n-1]"
      ],
      "execution_count": 26,
      "outputs": [
        {
          "output_type": "execute_result",
          "data": {
            "text/plain": [
              "array([[2, 0, 0],\n",
              "       [0, 3, 0],\n",
              "       [0, 0, 5]])"
            ]
          },
          "metadata": {},
          "execution_count": 26
        }
      ]
    },
    {
      "cell_type": "code",
      "metadata": {
        "colab": {
          "base_uri": "https://localhost:8080/"
        },
        "id": "e7OoyFlmaE11",
        "outputId": "1823061b-52f2-4496-cefe-364e4aa29b2c"
      },
      "source": [
        "d = np.diag([2,3,5,7])\n",
        "d"
      ],
      "execution_count": 27,
      "outputs": [
        {
          "output_type": "execute_result",
          "data": {
            "text/plain": [
              "array([[2, 0, 0, 0],\n",
              "       [0, 3, 0, 0],\n",
              "       [0, 0, 5, 0],\n",
              "       [0, 0, 0, 7]])"
            ]
          },
          "metadata": {},
          "execution_count": 27
        }
      ]
    },
    {
      "cell_type": "markdown",
      "metadata": {
        "id": "El7SlAxfaJme"
      },
      "source": [
        "An ***identity matrix*** is a special diagonal matrix in which the values at the diagonal are ones.\n"
      ]
    },
    {
      "cell_type": "code",
      "metadata": {
        "colab": {
          "base_uri": "https://localhost:8080/"
        },
        "id": "Cs_meYFIaQDA",
        "outputId": "2d490f26-0f43-43bb-8303-395dce689b63"
      },
      "source": [
        "np.eye(5)"
      ],
      "execution_count": 28,
      "outputs": [
        {
          "output_type": "execute_result",
          "data": {
            "text/plain": [
              "array([[1., 0., 0., 0., 0.],\n",
              "       [0., 1., 0., 0., 0.],\n",
              "       [0., 0., 1., 0., 0.],\n",
              "       [0., 0., 0., 1., 0.],\n",
              "       [0., 0., 0., 0., 1.]])"
            ]
          },
          "metadata": {},
          "execution_count": 28
        }
      ]
    },
    {
      "cell_type": "code",
      "metadata": {
        "colab": {
          "base_uri": "https://localhost:8080/"
        },
        "id": "39A13aKhaSnV",
        "outputId": "2360baff-3279-4bcc-a1e3-de7c9996b438"
      },
      "source": [
        "np.identity(5)"
      ],
      "execution_count": 29,
      "outputs": [
        {
          "output_type": "execute_result",
          "data": {
            "text/plain": [
              "array([[1., 0., 0., 0., 0.],\n",
              "       [0., 1., 0., 0., 0.],\n",
              "       [0., 0., 1., 0., 0.],\n",
              "       [0., 0., 0., 1., 0.],\n",
              "       [0., 0., 0., 0., 1.]])"
            ]
          },
          "metadata": {},
          "execution_count": 29
        }
      ]
    },
    {
      "cell_type": "markdown",
      "metadata": {
        "id": "YDRhyJXJaanx"
      },
      "source": [
        "An ***upper triangular matrix*** is a matrix that has no values below the diagonal. "
      ]
    },
    {
      "cell_type": "code",
      "metadata": {
        "colab": {
          "base_uri": "https://localhost:8080/"
        },
        "id": "99i8MUg4aefh",
        "outputId": "214b8997-9903-42ce-f78d-00c2aff449b9"
      },
      "source": [
        "np.array([\n",
        "    [1,2,3],\n",
        "    [0,3,1],\n",
        "    [0,0,5]\n",
        "])"
      ],
      "execution_count": 30,
      "outputs": [
        {
          "output_type": "execute_result",
          "data": {
            "text/plain": [
              "array([[1, 2, 3],\n",
              "       [0, 3, 1],\n",
              "       [0, 0, 5]])"
            ]
          },
          "metadata": {},
          "execution_count": 30
        }
      ]
    },
    {
      "cell_type": "markdown",
      "metadata": {
        "id": "PUdJ1YbNajPV"
      },
      "source": [
        "A ***lower triangular matrix*** is a matrix that has no values above the diagonal."
      ]
    },
    {
      "cell_type": "code",
      "metadata": {
        "colab": {
          "base_uri": "https://localhost:8080/"
        },
        "id": "WKwXjIEfalJv",
        "outputId": "c6ed50ba-7f31-43b2-e072-c6b7b808fe6a"
      },
      "source": [
        "np.array([\n",
        "    [1,0,0],\n",
        "    [5,3,0],\n",
        "    [7,8,5]\n",
        "])"
      ],
      "execution_count": 31,
      "outputs": [
        {
          "output_type": "execute_result",
          "data": {
            "text/plain": [
              "array([[1, 0, 0],\n",
              "       [5, 3, 0],\n",
              "       [7, 8, 5]])"
            ]
          },
          "metadata": {},
          "execution_count": 31
        }
      ]
    },
    {
      "cell_type": "markdown",
      "metadata": {
        "id": "NlKbOpC-a0iS"
      },
      "source": [
        "# **PRACTICE**"
      ]
    },
    {
      "cell_type": "markdown",
      "metadata": {
        "id": "waUJAEtjbXCM"
      },
      "source": [
        "**1.)** $$\\theta = 5x + 3y - z$$"
      ]
    },
    {
      "cell_type": "code",
      "metadata": {
        "colab": {
          "base_uri": "https://localhost:8080/"
        },
        "id": "DHjs-wQ8a4VC",
        "outputId": "b0006192-1377-412c-a037-c82d09386c56"
      },
      "source": [
        "theta = np.array([\n",
        "  [5,3,-1]\n",
        "])\n",
        "describe_mat(theta)"
      ],
      "execution_count": 32,
      "outputs": [
        {
          "output_type": "stream",
          "name": "stdout",
          "text": [
            "Matrix:\n",
            "[[ 5  3 -1]]\n",
            "\n",
            "Shape:\t(1, 3)\n",
            "Rank:\t2\n",
            "Is Square: False\n",
            "\n"
          ]
        }
      ]
    },
    {
      "cell_type": "markdown",
      "metadata": {
        "id": "EQEgBhD1biBs"
      },
      "source": [
        "**2.)** $$\n",
        "A = \\left\\{\\begin{array}\n",
        "5x_1 + 2x_2 +x_3\\\\\n",
        "4x_2 - x_3\\\\\n",
        "10x_3\n",
        "\\end{array}\\right.\n",
        "$$"
      ]
    },
    {
      "cell_type": "code",
      "metadata": {
        "colab": {
          "base_uri": "https://localhost:8080/"
        },
        "id": "P1WzL99Nbswl",
        "outputId": "e45b8034-316e-4bab-c478-a3183e9a44cd"
      },
      "source": [
        "A = np.array([\n",
        "  [1,2,1],\n",
        "  [0,4,-1],\n",
        "  [10,0,0]\n",
        "])\n",
        "describe_mat(A)"
      ],
      "execution_count": 33,
      "outputs": [
        {
          "output_type": "stream",
          "name": "stdout",
          "text": [
            "Matrix:\n",
            "[[ 1  2  1]\n",
            " [ 0  4 -1]\n",
            " [10  0  0]]\n",
            "\n",
            "Shape:\t(3, 3)\n",
            "Rank:\t2\n",
            "Is Square: True\n",
            "\n"
          ]
        }
      ]
    },
    {
      "cell_type": "markdown",
      "metadata": {
        "id": "NF54ubXIcB3v"
      },
      "source": [
        "**3.)** Given the matrix below, express it as a linear combination in a markdown."
      ]
    },
    {
      "cell_type": "code",
      "metadata": {
        "id": "5ypkJMLrcSne"
      },
      "source": [
        "G = np.array([\n",
        "    [1,7,8],\n",
        "    [2,2,2],\n",
        "    [4,6,7]\n",
        "])"
      ],
      "execution_count": null,
      "outputs": []
    },
    {
      "cell_type": "markdown",
      "metadata": {
        "id": "bpA7cxiBcXfT"
      },
      "source": [
        "G = \\begin{bmatrix} 1 & 7 & 8 \\\\ 2 & 2 & 2 \\\\ 4 & 6 & 7\\end{bmatrix} \\\\\n",
        "\n",
        "\n",
        "\n",
        "$$\n",
        "G = \\left\\{\n",
        "    \\begin{array}\\\n",
        "        x + 7x_2 + 8x_3 \\\\\n",
        "        2x + 2x_2 + 2x_3 \\\\\n",
        "        4x + 6x_2 + 7x_3\n",
        "    \\end{array}\n",
        "\\right. \\\\\n",
        "$$"
      ]
    },
    {
      "cell_type": "markdown",
      "metadata": {
        "id": "2gTnfldNcw-B"
      },
      "source": [
        "**4.)** Given the matrix below, display the output as a LaTeX markdown also express it as a system of linear combinations."
      ]
    },
    {
      "cell_type": "code",
      "metadata": {
        "colab": {
          "base_uri": "https://localhost:8080/"
        },
        "id": "mpMhvlPGe--k",
        "outputId": "a9372638-fa1b-486d-8ca5-a3e97e865da4"
      },
      "source": [
        "H = np.tril(G)\n",
        "H"
      ],
      "execution_count": null,
      "outputs": [
        {
          "output_type": "execute_result",
          "data": {
            "text/plain": [
              "array([[1, 0, 0],\n",
              "       [2, 2, 0],\n",
              "       [4, 6, 7]])"
            ]
          },
          "metadata": {},
          "execution_count": 29
        }
      ]
    },
    {
      "cell_type": "markdown",
      "metadata": {
        "id": "DOnDFfQ7cw6i"
      },
      "source": [
        "## **MATRIX ALGEBRA**\n"
      ]
    },
    {
      "cell_type": "markdown",
      "metadata": {
        "id": "SdNeK5syfY8x"
      },
      "source": [
        "### Addition"
      ]
    },
    {
      "cell_type": "code",
      "metadata": {
        "colab": {
          "base_uri": "https://localhost:8080/"
        },
        "id": "QTzoOEhvfhqY",
        "outputId": "41506a42-ef81-4083-dc67-7947b740bd13"
      },
      "source": [
        "A = np.array([\n",
        "    [1,2],\n",
        "    [2,3],\n",
        "    [4,1]\n",
        "])\n",
        "B = np.array([\n",
        "    [2,2],\n",
        "    [0,0],\n",
        "    [1,1]\n",
        "])\n",
        "A+B"
      ],
      "execution_count": null,
      "outputs": [
        {
          "output_type": "execute_result",
          "data": {
            "text/plain": [
              "array([[3, 4],\n",
              "       [2, 3],\n",
              "       [5, 2]])"
            ]
          },
          "metadata": {},
          "execution_count": 30
        }
      ]
    },
    {
      "cell_type": "code",
      "metadata": {
        "colab": {
          "base_uri": "https://localhost:8080/"
        },
        "id": "kFPLRtpzfiqz",
        "outputId": "359d68c4-2cc6-4deb-d96f-9c32b00e9c40"
      },
      "source": [
        "2+A ##Broadcasting\n",
        "# 2*np.ones(A.shape)+A"
      ],
      "execution_count": null,
      "outputs": [
        {
          "output_type": "execute_result",
          "data": {
            "text/plain": [
              "array([[3, 4],\n",
              "       [4, 5],\n",
              "       [6, 3]])"
            ]
          },
          "metadata": {},
          "execution_count": 31
        }
      ]
    },
    {
      "cell_type": "markdown",
      "metadata": {
        "id": "WfV0OAY3foWr"
      },
      "source": [
        "### Subtraction"
      ]
    },
    {
      "cell_type": "code",
      "metadata": {
        "colab": {
          "base_uri": "https://localhost:8080/"
        },
        "id": "-EWjz0GNfwXr",
        "outputId": "e86fa8a0-0cde-48bb-de8e-2f1040198e79"
      },
      "source": [
        "A-B"
      ],
      "execution_count": null,
      "outputs": [
        {
          "output_type": "execute_result",
          "data": {
            "text/plain": [
              "array([[-1,  0],\n",
              "       [ 2,  3],\n",
              "       [ 3,  0]])"
            ]
          },
          "metadata": {},
          "execution_count": 32
        }
      ]
    },
    {
      "cell_type": "code",
      "metadata": {
        "colab": {
          "base_uri": "https://localhost:8080/"
        },
        "id": "3U5MC7y9fvUk",
        "outputId": "888b8a47-ed69-444a-86d9-0239a9b1e351"
      },
      "source": [
        "3-B == 3*np.ones(B.shape)-B"
      ],
      "execution_count": null,
      "outputs": [
        {
          "output_type": "execute_result",
          "data": {
            "text/plain": [
              "array([[ True,  True],\n",
              "       [ True,  True],\n",
              "       [ True,  True]])"
            ]
          },
          "metadata": {},
          "execution_count": 33
        }
      ]
    },
    {
      "cell_type": "markdown",
      "metadata": {
        "id": "etLJDYBLfrm8"
      },
      "source": [
        "### Element-wise Multiplication"
      ]
    },
    {
      "cell_type": "code",
      "metadata": {
        "colab": {
          "base_uri": "https://localhost:8080/"
        },
        "id": "ez4sJ51Tfv8v",
        "outputId": "2df4e935-a67c-4796-ca3f-c4b4d62ce73c"
      },
      "source": [
        "A*B\n",
        "np.multiply(A,B)"
      ],
      "execution_count": null,
      "outputs": [
        {
          "output_type": "execute_result",
          "data": {
            "text/plain": [
              "array([[2, 4],\n",
              "       [0, 0],\n",
              "       [4, 1]])"
            ]
          },
          "metadata": {},
          "execution_count": 34
        }
      ]
    },
    {
      "cell_type": "code",
      "metadata": {
        "colab": {
          "base_uri": "https://localhost:8080/"
        },
        "id": "kG1hqnjefv0P",
        "outputId": "b98be19d-72cb-4955-b092-58f2f24395dc"
      },
      "source": [
        "2*A"
      ],
      "execution_count": null,
      "outputs": [
        {
          "output_type": "execute_result",
          "data": {
            "text/plain": [
              "array([[2, 4],\n",
              "       [4, 6],\n",
              "       [8, 2]])"
            ]
          },
          "metadata": {},
          "execution_count": 35
        }
      ]
    },
    {
      "cell_type": "code",
      "metadata": {
        "id": "r7719URtf92L"
      },
      "source": [
        "##A@B"
      ],
      "execution_count": null,
      "outputs": []
    },
    {
      "cell_type": "code",
      "metadata": {
        "colab": {
          "base_uri": "https://localhost:8080/"
        },
        "id": "ZedL9WGEf9ui",
        "outputId": "3ca359e6-e0cc-4913-e767-d49f8aabb19e"
      },
      "source": [
        "alpha=10**-10\n",
        "A/(alpha+B)"
      ],
      "execution_count": null,
      "outputs": [
        {
          "output_type": "execute_result",
          "data": {
            "text/plain": [
              "array([[5.e-01, 1.e+00],\n",
              "       [2.e+10, 3.e+10],\n",
              "       [4.e+00, 1.e+00]])"
            ]
          },
          "metadata": {},
          "execution_count": 38
        }
      ]
    },
    {
      "cell_type": "code",
      "metadata": {
        "colab": {
          "base_uri": "https://localhost:8080/"
        },
        "id": "QE_3yiTff9kp",
        "outputId": "07ab7b3c-1eea-4457-cceb-46cbec6e7632"
      },
      "source": [
        "np.add(A,B)"
      ],
      "execution_count": null,
      "outputs": [
        {
          "output_type": "execute_result",
          "data": {
            "text/plain": [
              "array([[3, 4],\n",
              "       [2, 3],\n",
              "       [5, 2]])"
            ]
          },
          "metadata": {},
          "execution_count": 39
        }
      ]
    },
    {
      "cell_type": "markdown",
      "metadata": {
        "id": "2LLIa56GnmxM"
      },
      "source": [
        "# **ACTIVITY**"
      ]
    },
    {
      "cell_type": "markdown",
      "metadata": {
        "id": "MKz54ilMnrkW"
      },
      "source": [
        "### *Task 1*\n",
        "Create a function named `mat_desc()` that througouhly describes a matrix, it should: <br>\n",
        "1. Displays the shape, size, and rank of the matrix. <br>\n",
        "2. Displays whether the matrix is square or non-square. <br>\n",
        "3. Displays whether the matrix is an empty matrix. <br>\n",
        "4. Displays if the matrix is an identity, ones, or zeros matrix <br>\n",
        "   \n",
        "Use sample matrices in which their shapes are not lower than $(3,3)$.\n",
        "In your methodology, create a flowchart discuss the functions and methods you have done. Present your results in the results section showing the description of each matrix you have declared."
      ]
    },
    {
      "cell_type": "code",
      "metadata": {
        "id": "y4yWHK9bpbSU"
      },
      "source": [
        "def mat_desc(matrix):\n",
        "    print(f'Matrix:\\n{matrix}\\n\\nShape:\\t{matrix.shape}\\nRank:\\t{matrix.ndim}\\n')"
      ],
      "execution_count": 34,
      "outputs": []
    },
    {
      "cell_type": "markdown",
      "metadata": {
        "id": "amxFrYoAcgC-"
      },
      "source": [
        "**SHAPE, SIZE, & RANK**"
      ]
    },
    {
      "cell_type": "code",
      "metadata": {
        "id": "4c7DINy3WNtl",
        "outputId": "7f1c3310-e0cb-4527-f65e-8a8b404ea8c8",
        "colab": {
          "base_uri": "https://localhost:8080/"
        }
      },
      "source": [
        "X = np.array([\n",
        "    [7,3,6,2],\n",
        "    [2,1,4,3],\n",
        "    [1,9,2,5]    \n",
        "])\n",
        "mat_desc(X)"
      ],
      "execution_count": 38,
      "outputs": [
        {
          "output_type": "stream",
          "name": "stdout",
          "text": [
            "Matrix:\n",
            "[[7 3 6 2]\n",
            " [2 1 4 3]\n",
            " [1 9 2 5]]\n",
            "\n",
            "Shape:\t(3, 4)\n",
            "Rank:\t2\n",
            "\n"
          ]
        }
      ]
    },
    {
      "cell_type": "code",
      "metadata": {
        "id": "jF43pacyWNqw",
        "outputId": "56493173-7ada-4eb4-a32a-8cf6405b56ec",
        "colab": {
          "base_uri": "https://localhost:8080/"
        }
      },
      "source": [
        "Y = np.array([\n",
        "    [4,7,8,2,9],\n",
        "    [9,3,1,1,3],\n",
        "    [7,6,2,5,4],\n",
        "    [1,3,6,5,8]     \n",
        "])\n",
        "mat_desc(Y)"
      ],
      "execution_count": 37,
      "outputs": [
        {
          "output_type": "stream",
          "name": "stdout",
          "text": [
            "Matrix:\n",
            "[[4 7 8 2 9]\n",
            " [9 3 1 1 3]\n",
            " [7 6 2 5 4]\n",
            " [1 3 6 5 8]]\n",
            "\n",
            "Shape:\t(4, 5)\n",
            "Rank:\t2\n",
            "\n"
          ]
        }
      ]
    },
    {
      "cell_type": "markdown",
      "metadata": {
        "id": "1N3udcgBqiHg"
      },
      "source": [
        "***FLOWCHART***\n",
        "![image.png](data:image/png;base64,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)"
      ]
    },
    {
      "cell_type": "markdown",
      "metadata": {
        "id": "RIkMFpPfdfsU"
      },
      "source": [
        "**SQUARE & NON-SQUARE MATRICES**"
      ]
    },
    {
      "cell_type": "code",
      "metadata": {
        "id": "A6WQrm0yWNKG"
      },
      "source": [
        "def mat_desc(matrix):\n",
        "  is_square = True if matrix.shape[0] == matrix.shape[1] else False\n",
        "  print (f'Matrix:\\n{matrix}\\n\\nShape:\\t{matrix.shape}\\nRank:\\t{matrix.ndim}\\nIs Square: {is_square}\\n')"
      ],
      "execution_count": 39,
      "outputs": []
    },
    {
      "cell_type": "code",
      "metadata": {
        "id": "8KM-S0Idp3hq",
        "outputId": "c92da114-c7b7-4d06-f37e-d3be745e2feb",
        "colab": {
          "base_uri": "https://localhost:8080/"
        }
      },
      "source": [
        "square_mat = np.array([\n",
        "    [6,8,2,9],\n",
        "    [3,7,4,6],\n",
        "    [7,2,6,3],\n",
        "    [8,9,1,1]                  \n",
        "])\n",
        "\n",
        "non_square_mat = np.array([\n",
        "   [7,3,8],\n",
        "   [9,1,2],\n",
        "   [4,4,3],\n",
        "   [6,5,6]\n",
        "])\n",
        "mat_desc(square_mat)\n",
        "mat_desc(non_square_mat)"
      ],
      "execution_count": 40,
      "outputs": [
        {
          "output_type": "stream",
          "name": "stdout",
          "text": [
            "Matrix:\n",
            "[[6 8 2 9]\n",
            " [3 7 4 6]\n",
            " [7 2 6 3]\n",
            " [8 9 1 1]]\n",
            "\n",
            "Shape:\t(4, 4)\n",
            "Rank:\t2\n",
            "Is Square: True\n",
            "\n",
            "Matrix:\n",
            "[[7 3 8]\n",
            " [9 1 2]\n",
            " [4 4 3]\n",
            " [6 5 6]]\n",
            "\n",
            "Shape:\t(4, 3)\n",
            "Rank:\t2\n",
            "Is Square: False\n",
            "\n"
          ]
        }
      ]
    },
    {
      "cell_type": "markdown",
      "metadata": {
        "id": "Rc8KgLphqpTt"
      },
      "source": [
        "***FLOWCHART***\n",
        "![image.png](data:image/png;base64,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)\n"
      ]
    },
    {
      "cell_type": "markdown",
      "metadata": {
        "id": "sBuJumlJmwWS"
      },
      "source": [
        "**EMPTY MATRIX** "
      ]
    },
    {
      "cell_type": "code",
      "metadata": {
        "id": "DCV6gJJ5nkHQ"
      },
      "source": [
        "def mat_desc(matrix):\n",
        "  if matrix.size > 0:\n",
        "    is_square = True if matrix.shape[0] == matrix.shape[1] else False\n",
        "    print (f'Matrix:\\n{matrix}\\n\\nShape:\\t{matrix.shape}\\nRank:\\t{matrix.ndim}\\nIs Square: {is_square}\\n')\n",
        "  else:\n",
        "    print('Matrix is Null')"
      ],
      "execution_count": 41,
      "outputs": []
    },
    {
      "cell_type": "code",
      "metadata": {
        "id": "PWjL7CRuqyrU",
        "outputId": "2fcc6add-4cea-4a29-b1cd-5764fcc2c4c5",
        "colab": {
          "base_uri": "https://localhost:8080/"
        }
      },
      "source": [
        "null_mat = np.array([])\n",
        "mat_desc(null_mat)"
      ],
      "execution_count": 42,
      "outputs": [
        {
          "output_type": "stream",
          "name": "stdout",
          "text": [
            "Matrix is Null\n"
          ]
        }
      ]
    },
    {
      "cell_type": "markdown",
      "metadata": {
        "id": "TEceudd2ylfQ"
      },
      "source": [
        "***FLOWCHART***\n",
        "![image.png](data:image/png;base64,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)"
      ]
    },
    {
      "cell_type": "markdown",
      "metadata": {
        "id": "hFvUWf7smwAX"
      },
      "source": [
        "**IDENTITY, ONES, AND ZEROS**"
      ]
    },
    {
      "cell_type": "code",
      "metadata": {
        "id": "iNxk8m41mvkk",
        "outputId": "7a0f2b70-e77e-41c5-d207-902edb828b5c",
        "colab": {
          "base_uri": "https://localhost:8080/"
        }
      },
      "source": [
        "##IDENTITY MATRIX\n",
        "np.eye(12)"
      ],
      "execution_count": 43,
      "outputs": [
        {
          "output_type": "execute_result",
          "data": {
            "text/plain": [
              "array([[1., 0., 0., 0., 0., 0., 0., 0., 0., 0., 0., 0.],\n",
              "       [0., 1., 0., 0., 0., 0., 0., 0., 0., 0., 0., 0.],\n",
              "       [0., 0., 1., 0., 0., 0., 0., 0., 0., 0., 0., 0.],\n",
              "       [0., 0., 0., 1., 0., 0., 0., 0., 0., 0., 0., 0.],\n",
              "       [0., 0., 0., 0., 1., 0., 0., 0., 0., 0., 0., 0.],\n",
              "       [0., 0., 0., 0., 0., 1., 0., 0., 0., 0., 0., 0.],\n",
              "       [0., 0., 0., 0., 0., 0., 1., 0., 0., 0., 0., 0.],\n",
              "       [0., 0., 0., 0., 0., 0., 0., 1., 0., 0., 0., 0.],\n",
              "       [0., 0., 0., 0., 0., 0., 0., 0., 1., 0., 0., 0.],\n",
              "       [0., 0., 0., 0., 0., 0., 0., 0., 0., 1., 0., 0.],\n",
              "       [0., 0., 0., 0., 0., 0., 0., 0., 0., 0., 1., 0.],\n",
              "       [0., 0., 0., 0., 0., 0., 0., 0., 0., 0., 0., 1.]])"
            ]
          },
          "metadata": {},
          "execution_count": 43
        }
      ]
    },
    {
      "cell_type": "code",
      "metadata": {
        "id": "zB41QLyFrK0a",
        "outputId": "69866f6b-d230-4af4-a79f-29bfdae2a3ac",
        "colab": {
          "base_uri": "https://localhost:8080/"
        }
      },
      "source": [
        "np.identity(8)"
      ],
      "execution_count": 44,
      "outputs": [
        {
          "output_type": "execute_result",
          "data": {
            "text/plain": [
              "array([[1., 0., 0., 0., 0., 0., 0., 0.],\n",
              "       [0., 1., 0., 0., 0., 0., 0., 0.],\n",
              "       [0., 0., 1., 0., 0., 0., 0., 0.],\n",
              "       [0., 0., 0., 1., 0., 0., 0., 0.],\n",
              "       [0., 0., 0., 0., 1., 0., 0., 0.],\n",
              "       [0., 0., 0., 0., 0., 1., 0., 0.],\n",
              "       [0., 0., 0., 0., 0., 0., 1., 0.],\n",
              "       [0., 0., 0., 0., 0., 0., 0., 1.]])"
            ]
          },
          "metadata": {},
          "execution_count": 44
        }
      ]
    },
    {
      "cell_type": "markdown",
      "metadata": {
        "id": "cUg5Y91x9dtm"
      },
      "source": [
        "***FLOWCHART***\n",
        "![image.png](data:image/png;base64,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)"
      ]
    },
    {
      "cell_type": "code",
      "metadata": {
        "id": "8EOh8L1mrSwL",
        "outputId": "de94144f-5bf1-41c1-d312-e5474396254f",
        "colab": {
          "base_uri": "https://localhost:8080/"
        }
      },
      "source": [
        "##ONES MATRIX\n",
        "ones_mat_row = np.ones((5,4))\n",
        "ones_mat_sqr = np.ones((4,6))\n",
        "ones_mat_rct = np.ones((9,5))\n",
        "\n",
        "\n",
        "print(f'Ones Row Matrix: \\n{ones_mat_row}')\n",
        "print(f'Ones square Matrix: \\n{ones_mat_sqr}')\n",
        "print(f'Ones Rectangular Matrix: \\n{ones_mat_rct}')"
      ],
      "execution_count": 45,
      "outputs": [
        {
          "output_type": "stream",
          "name": "stdout",
          "text": [
            "Ones Row Matrix: \n",
            "[[1. 1. 1. 1.]\n",
            " [1. 1. 1. 1.]\n",
            " [1. 1. 1. 1.]\n",
            " [1. 1. 1. 1.]\n",
            " [1. 1. 1. 1.]]\n",
            "Ones square Matrix: \n",
            "[[1. 1. 1. 1. 1. 1.]\n",
            " [1. 1. 1. 1. 1. 1.]\n",
            " [1. 1. 1. 1. 1. 1.]\n",
            " [1. 1. 1. 1. 1. 1.]]\n",
            "Ones Rectangular Matrix: \n",
            "[[1. 1. 1. 1. 1.]\n",
            " [1. 1. 1. 1. 1.]\n",
            " [1. 1. 1. 1. 1.]\n",
            " [1. 1. 1. 1. 1.]\n",
            " [1. 1. 1. 1. 1.]\n",
            " [1. 1. 1. 1. 1.]\n",
            " [1. 1. 1. 1. 1.]\n",
            " [1. 1. 1. 1. 1.]\n",
            " [1. 1. 1. 1. 1.]]\n"
          ]
        }
      ]
    },
    {
      "cell_type": "markdown",
      "metadata": {
        "id": "u1T-UbB4B8Je"
      },
      "source": [
        "***FLOWCHART*** \n",
        "![image.png](data:image/png;base64,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)\n"
      ]
    },
    {
      "cell_type": "code",
      "metadata": {
        "id": "qSFnLkburpZo",
        "outputId": "f8a07205-baa5-4005-f1b3-b09d3a2490ae",
        "colab": {
          "base_uri": "https://localhost:8080/"
        }
      },
      "source": [
        "##ZEROS MATRIX\n",
        "zero_mat_row = np.zeros((4,8))\n",
        "zero_mat_sqr = np.zeros((6,6))\n",
        "zero_mat_rct = np.zeros((5,9))\n",
        "\n",
        "print(f'Zero Row Matrix: \\n{zero_mat_row}')\n",
        "print(f'Zero Square Matrix: \\n{zero_mat_sqr}')\n",
        "print(f'Zero Rectangular Matrix: \\n{zero_mat_rct}')"
      ],
      "execution_count": 47,
      "outputs": [
        {
          "output_type": "stream",
          "name": "stdout",
          "text": [
            "Zero Row Matrix: \n",
            "[[0. 0. 0. 0. 0. 0. 0. 0.]\n",
            " [0. 0. 0. 0. 0. 0. 0. 0.]\n",
            " [0. 0. 0. 0. 0. 0. 0. 0.]\n",
            " [0. 0. 0. 0. 0. 0. 0. 0.]]\n",
            "Zero Square Matrix: \n",
            "[[0. 0. 0. 0. 0. 0.]\n",
            " [0. 0. 0. 0. 0. 0.]\n",
            " [0. 0. 0. 0. 0. 0.]\n",
            " [0. 0. 0. 0. 0. 0.]\n",
            " [0. 0. 0. 0. 0. 0.]\n",
            " [0. 0. 0. 0. 0. 0.]]\n",
            "Zero Rectangular Matrix: \n",
            "[[0. 0. 0. 0. 0. 0. 0. 0. 0.]\n",
            " [0. 0. 0. 0. 0. 0. 0. 0. 0.]\n",
            " [0. 0. 0. 0. 0. 0. 0. 0. 0.]\n",
            " [0. 0. 0. 0. 0. 0. 0. 0. 0.]\n",
            " [0. 0. 0. 0. 0. 0. 0. 0. 0.]]\n"
          ]
        }
      ]
    },
    {
      "cell_type": "markdown",
      "metadata": {
        "id": "lZAgqSdAyrWf"
      },
      "source": [
        "***FLOWCHART***\n",
        "![image.png](data:image/png;base64,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)"
      ]
    },
    {
      "cell_type": "markdown",
      "metadata": {
        "id": "AX9I7xLBpTw4"
      },
      "source": [
        "### *Task 2*\n",
        "Create a function named `mat_operations()` that takes in two matrices a input parameters it should:<br>\n",
        " 1. Determines if the matrices are viable for operation and returns your own error message if they are not viable.\n",
        " 2. Returns the sum of the matrices.\n",
        " 3. Returns the difference of the matrices.\n",
        " 4. Returns the element-wise multiplication of the matrices.\n",
        " 5. Returns the element-wise division of the matrices.\n",
        "\n",
        "Use sample matrices in which their shapes are not lower than $(3,3)$.\n",
        "In your methodology, create a flowchart discuss the functions and methods you have done. Present your results in the results section showing the description of each matrix you have declared."
      ]
    },
    {
      "cell_type": "code",
      "metadata": {
        "id": "XVdpSZulpbw6"
      },
      "source": [
        "def mat_operations(matrix):\n",
        "    print(f'Matrix:\\n{matrix}\\n\\nShape:\\t{matrix.shape}\\nRank:\\t{matrix.ndim}\\n')"
      ],
      "execution_count": 51,
      "outputs": []
    },
    {
      "cell_type": "code",
      "metadata": {
        "id": "zzckbLqY7xUM"
      },
      "source": [
        "## *Determines if the matrices are viable for operation and returns your own error message if they are not viable.*"
      ],
      "execution_count": 49,
      "outputs": []
    },
    {
      "cell_type": "code",
      "metadata": {
        "id": "A_ngzjCa7_MC",
        "outputId": "44cf1b40-25dd-4456-b5dd-921be3e0a231",
        "colab": {
          "base_uri": "https://localhost:8080/"
        }
      },
      "source": [
        "print (\"Yes, the matrices are viable.\")"
      ],
      "execution_count": 53,
      "outputs": [
        {
          "output_type": "stream",
          "name": "stdout",
          "text": [
            "Yes, the matrices are viable.\n"
          ]
        }
      ]
    },
    {
      "cell_type": "markdown",
      "metadata": {
        "id": "vheGqpRRMKJb"
      },
      "source": [
        "2. **ADDITION** "
      ]
    },
    {
      "cell_type": "code",
      "metadata": {
        "id": "NLzoNN7b_Ed_",
        "outputId": "06df7abe-8295-4aca-e178-228427032dbb",
        "colab": {
          "base_uri": "https://localhost:8080/"
        }
      },
      "source": [
        "A = np.array([\n",
        "   [8,2,3],\n",
        "   [3,9,6],\n",
        "   [7,5,9],\n",
        "   [6,6,1],\n",
        "   [1,4,5]           \n",
        "])\n",
        "B = np.array([\n",
        "   [2,4,4],\n",
        "   [5,8,1],\n",
        "   [9,3,7],\n",
        "   [3,5,9],\n",
        "   [1,2,3]    \n",
        "])\n",
        "A + B"
      ],
      "execution_count": 58,
      "outputs": [
        {
          "output_type": "execute_result",
          "data": {
            "text/plain": [
              "array([[10,  6,  7],\n",
              "       [ 8, 17,  7],\n",
              "       [16,  8, 16],\n",
              "       [ 9, 11, 10],\n",
              "       [ 2,  6,  8]])"
            ]
          },
          "metadata": {},
          "execution_count": 58
        }
      ]
    },
    {
      "cell_type": "code",
      "metadata": {
        "id": "YlLjBK6v_6qK",
        "outputId": "fc958b4e-0afa-48da-bab5-8634ae2a5f39",
        "colab": {
          "base_uri": "https://localhost:8080/"
        }
      },
      "source": [
        "15+A"
      ],
      "execution_count": 57,
      "outputs": [
        {
          "output_type": "execute_result",
          "data": {
            "text/plain": [
              "array([[23, 17, 18],\n",
              "       [18, 24, 21],\n",
              "       [22, 20, 24],\n",
              "       [21, 21, 16],\n",
              "       [16, 19, 20]])"
            ]
          },
          "metadata": {},
          "execution_count": 57
        }
      ]
    },
    {
      "cell_type": "markdown",
      "metadata": {
        "id": "PTCwkcuTAAKg"
      },
      "source": [
        "***FLOWCHART***\n",
        "![image.png](data:image/png;base64,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)"
      ]
    },
    {
      "cell_type": "markdown",
      "metadata": {
        "id": "pIUnIX93IlXk"
      },
      "source": [
        "3. **SUBTRACTION**\n"
      ]
    },
    {
      "cell_type": "code",
      "metadata": {
        "id": "J1TteKJkLo0f",
        "outputId": "ed8f2946-1f8e-4c71-8e5a-074150683e49",
        "colab": {
          "base_uri": "https://localhost:8080/"
        }
      },
      "source": [
        "A-B"
      ],
      "execution_count": 59,
      "outputs": [
        {
          "output_type": "execute_result",
          "data": {
            "text/plain": [
              "array([[ 6, -2, -1],\n",
              "       [-2,  1,  5],\n",
              "       [-2,  2,  2],\n",
              "       [ 3,  1, -8],\n",
              "       [ 0,  2,  2]])"
            ]
          },
          "metadata": {},
          "execution_count": 59
        }
      ]
    },
    {
      "cell_type": "code",
      "metadata": {
        "id": "1Z0vBbFVNIZc",
        "outputId": "e581283a-5fe0-410d-96ff-0a8f757433b3",
        "colab": {
          "base_uri": "https://localhost:8080/"
        }
      },
      "source": [
        "9-A"
      ],
      "execution_count": 60,
      "outputs": [
        {
          "output_type": "execute_result",
          "data": {
            "text/plain": [
              "array([[1, 7, 6],\n",
              "       [6, 0, 3],\n",
              "       [2, 4, 0],\n",
              "       [3, 3, 8],\n",
              "       [8, 5, 4]])"
            ]
          },
          "metadata": {},
          "execution_count": 60
        }
      ]
    },
    {
      "cell_type": "markdown",
      "metadata": {
        "id": "NYI8t86wNyVS"
      },
      "source": [
        "***FLOWCHART***\n",
        "![image.png](data:image/png;base64,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)"
      ]
    },
    {
      "cell_type": "markdown",
      "metadata": {
        "id": "bTHy7SilOFz3"
      },
      "source": [
        "#**Conclusion** \n",
        "<blockquote> Finally, the last laboratory activity made it much simpler to encode the codes, and since we already know how to use Google Colab it decreases our effort since we know already how to use a text or a role and how the Google Colab works. The purpose of this exercise is to assist the learner with the teaching and the execution of matrix codes. During this lab activity we learnt that the user may perform several types of matrices, such zeros, null, line, identity, etc. and that they can utilize Google Colab to add, subtract, multiply and divide.\n",
        "In particular when it comes to programming, Matrix operations can assist to innovate or improve our technology. Matrix operations can aid."
      ]
    }
  ]
}