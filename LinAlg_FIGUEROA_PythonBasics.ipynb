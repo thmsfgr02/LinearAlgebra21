{
  "nbformat": 4,
  "nbformat_minor": 0,
  "metadata": {
    "colab": {
      "name": "LinAlg_FIGUEROA_PythonBasics.ipynb",
      "provenance": [],
      "authorship_tag": "ABX9TyPb48ReTZtMzuV2ddMzLokp",
      "include_colab_link": true
    },
    "kernelspec": {
      "name": "python3",
      "display_name": "Python 3"
    },
    "language_info": {
      "name": "python"
    }
  },
  "cells": [
    {
      "cell_type": "markdown",
      "metadata": {
        "id": "view-in-github",
        "colab_type": "text"
      },
      "source": [
        "<a href=\"https://colab.research.google.com/github/thmsfgr02/LinearAlgebra21/blob/main/LinAlg_FIGUEROA_PythonBasics.ipynb\" target=\"_parent\"><img src=\"https://colab.research.google.com/assets/colab-badge.svg\" alt=\"Open In Colab\"/></a>"
      ]
    },
    {
      "cell_type": "code",
      "metadata": {
        "cellView": "form",
        "id": "ynCEBpM9z1rt",
        "outputId": "5bd572b3-9890-4d6b-9067-f90e5493789f",
        "colab": {
          "base_uri": "https://localhost:8080/",
          "height": 230
        }
      },
      "source": [
        "#@title \n",
        "%%html\n",
        "<style>\n",
        "  body {background-color: #f0ffff;}\n",
        "</style>\n",
        "<body>\n",
        "<h1 style=\"font-family: Lucida Console;\"> Welcome to Python Fundamentals!</h1>\n",
        "<h3 style=\"font-family: Courier;\"> In this module, we are going to establish our skills in Python programming. In this notebook we are going to cover: </h3>\n",
        "<h4 style=\"font-family: Courier;\"> 1. Variables and Data Types <br> 2. Operations <br> 3. Input and Output Operations <br> 4. Logic Control <br> 5. Iterables <br> 6. Functions </h4>\n",
        "</body>"
      ],
      "execution_count": 4,
      "outputs": [
        {
          "output_type": "display_data",
          "data": {
            "text/html": [
              "<style>\n",
              "  body {background-color: #f0ffff;}\n",
              "</style>\n",
              "<body>\n",
              "<h1 style=\"font-family: Lucida Console;\"> Welcome to Python Fundamentals!</h1>\n",
              "<h3 style=\"font-family: Courier;\"> In this module, we are going to establish our skills in Python programming. In this notebook we are going to cover: </h3>\n",
              "<h4 style=\"font-family: Courier;\"> 1. Variables and Data Types <br> 2. Operations <br> 3. Input and Output Operations <br> 4. Logic Control <br> 5. Iterables <br> 6. Functions </h4>\n",
              "</body>"
            ],
            "text/plain": [
              "<IPython.core.display.HTML object>"
            ]
          },
          "metadata": {}
        }
      ]
    },
    {
      "cell_type": "markdown",
      "metadata": {
        "id": "7p18hEAC56Ay"
      },
      "source": [
        "## Variables and Data Types"
      ]
    },
    {
      "cell_type": "code",
      "metadata": {
        "id": "_JC1QY_21e3z"
      },
      "source": [
        "x = 1\n",
        "a, b = 3, -2\n",
        "b"
      ],
      "execution_count": null,
      "outputs": []
    },
    {
      "cell_type": "code",
      "metadata": {
        "colab": {
          "base_uri": "https://localhost:8080/"
        },
        "id": "uQtrcBkJ3fZe",
        "outputId": "130a02ab-8d5c-4bca-ef82-d5572adb6e24"
      },
      "source": [
        "type(x)"
      ],
      "execution_count": null,
      "outputs": [
        {
          "output_type": "execute_result",
          "data": {
            "text/plain": [
              "int"
            ]
          },
          "metadata": {},
          "execution_count": 5
        }
      ]
    },
    {
      "cell_type": "code",
      "metadata": {
        "colab": {
          "base_uri": "https://localhost:8080/"
        },
        "id": "Riv8CHBR3niR",
        "outputId": "a7243bb8-dba8-4a56-9bc3-1d49b950fbc5"
      },
      "source": [
        "y = 3.0\n",
        "type(y)"
      ],
      "execution_count": null,
      "outputs": [
        {
          "output_type": "execute_result",
          "data": {
            "text/plain": [
              "float"
            ]
          },
          "metadata": {},
          "execution_count": 6
        }
      ]
    },
    {
      "cell_type": "code",
      "metadata": {
        "id": "ULOhFbXN2lKt"
      },
      "source": [
        "x = float(x)\n",
        "type(x)\n",
        "x"
      ],
      "execution_count": null,
      "outputs": []
    },
    {
      "cell_type": "code",
      "metadata": {
        "id": "Huy-jGwD4Ps5"
      },
      "source": [
        "s, t, u = \"1\", '3', 'three'\n",
        "type(t)"
      ],
      "execution_count": null,
      "outputs": []
    },
    {
      "cell_type": "markdown",
      "metadata": {
        "id": "G0aNqplk5luX"
      },
      "source": [
        "## Operations"
      ]
    },
    {
      "cell_type": "code",
      "metadata": {
        "cellView": "form",
        "id": "zjP87BKy5xk5",
        "outputId": "83b39286-8adf-4dff-a1de-80b900c64a0a",
        "colab": {
          "base_uri": "https://localhost:8080/",
          "height": 64
        }
      },
      "source": [
        "#@title \n",
        "%%html\n",
        "<style>\n",
        "  body {background-color: #f5f5dc;}\n",
        "</style>\n",
        "<body>\n",
        "<h2 style=\"font-family: Courier;\"> Arithmetic </h2>\n",
        "</body>"
      ],
      "execution_count": 17,
      "outputs": [
        {
          "output_type": "display_data",
          "data": {
            "text/html": [
              "<style>\n",
              "  body {background-color: #f5f5dc;}\n",
              "</style>\n",
              "<body>\n",
              "<h2 style=\"font-family: Courier;\"> Arithmetic </h2>\n",
              "</body>"
            ],
            "text/plain": [
              "<IPython.core.display.HTML object>"
            ]
          },
          "metadata": {}
        }
      ]
    },
    {
      "cell_type": "code",
      "metadata": {
        "id": "3c2CEBJ546f7"
      },
      "source": [
        "w, x, y, z = 4.0, -3.0, 1, -32"
      ],
      "execution_count": null,
      "outputs": []
    },
    {
      "cell_type": "code",
      "metadata": {
        "colab": {
          "base_uri": "https://localhost:8080/",
          "height": 35
        },
        "id": "PqPWVxp85HvA",
        "outputId": "c27c0281-aece-4409-af40-7de48baa95b6"
      },
      "source": [
        "### Addition\n",
        "S = w + x \n",
        "s"
      ],
      "execution_count": null,
      "outputs": [
        {
          "output_type": "execute_result",
          "data": {
            "application/vnd.google.colaboratory.intrinsic+json": {
              "type": "string"
            },
            "text/plain": [
              "'1'"
            ]
          },
          "metadata": {},
          "execution_count": 17
        }
      ]
    },
    {
      "cell_type": "code",
      "metadata": {
        "colab": {
          "base_uri": "https://localhost:8080/"
        },
        "id": "M2u24DnO5eql",
        "outputId": "2082e208-71c8-411a-c7ca-5a91fcca88f4"
      },
      "source": [
        "### Subtraction\n",
        "D = y - z\n",
        "D"
      ],
      "execution_count": null,
      "outputs": [
        {
          "output_type": "execute_result",
          "data": {
            "text/plain": [
              "33"
            ]
          },
          "metadata": {},
          "execution_count": 18
        }
      ]
    },
    {
      "cell_type": "code",
      "metadata": {
        "colab": {
          "base_uri": "https://localhost:8080/"
        },
        "id": "akLyswWr5tpK",
        "outputId": "3b96be3e-1cdc-4efa-85ed-1c6ac4286461"
      },
      "source": [
        "### Multiplication\n",
        "P = w * z\n",
        "P"
      ],
      "execution_count": null,
      "outputs": [
        {
          "output_type": "execute_result",
          "data": {
            "text/plain": [
              "-128.0"
            ]
          },
          "metadata": {},
          "execution_count": 19
        }
      ]
    },
    {
      "cell_type": "code",
      "metadata": {
        "colab": {
          "base_uri": "https://localhost:8080/"
        },
        "id": "R9psiK4056jr",
        "outputId": "4ac0e9d1-823b-46cf-c3ee-7d9aeaeefd40"
      },
      "source": [
        "### Division \n",
        "Q = y/x\n",
        "Q"
      ],
      "execution_count": null,
      "outputs": [
        {
          "output_type": "execute_result",
          "data": {
            "text/plain": [
              "-0.3333333333333333"
            ]
          },
          "metadata": {},
          "execution_count": 20
        }
      ]
    },
    {
      "cell_type": "code",
      "metadata": {
        "colab": {
          "base_uri": "https://localhost:8080/"
        },
        "id": "zk6O85336XLf",
        "outputId": "8073dacb-05e9-4a1d-a08b-df203e310115"
      },
      "source": [
        "### Floor Division\n",
        "Qf = w//x\n",
        "Qf"
      ],
      "execution_count": null,
      "outputs": [
        {
          "output_type": "execute_result",
          "data": {
            "text/plain": [
              "-2.0"
            ]
          },
          "metadata": {},
          "execution_count": 21
        }
      ]
    },
    {
      "cell_type": "code",
      "metadata": {
        "colab": {
          "base_uri": "https://localhost:8080/"
        },
        "id": "gJDAXlug7S-L",
        "outputId": "cbbb5c98-b0ed-4428-dfe5-8bbbe6ae2b69"
      },
      "source": [
        "### Exponentiation\n",
        "E = w**w\n",
        "E"
      ],
      "execution_count": null,
      "outputs": [
        {
          "output_type": "execute_result",
          "data": {
            "text/plain": [
              "256.0"
            ]
          },
          "metadata": {},
          "execution_count": 22
        }
      ]
    },
    {
      "cell_type": "code",
      "metadata": {
        "colab": {
          "base_uri": "https://localhost:8080/"
        },
        "id": "61-HsV5O7eVz",
        "outputId": "f21a8734-f225-41fa-f443-f1e8d9c1f0aa"
      },
      "source": [
        "### Modulo\n",
        "mod = z%x\n",
        "mod "
      ],
      "execution_count": null,
      "outputs": [
        {
          "output_type": "execute_result",
          "data": {
            "text/plain": [
              "-2.0"
            ]
          },
          "metadata": {},
          "execution_count": 23
        }
      ]
    },
    {
      "cell_type": "code",
      "metadata": {
        "cellView": "form",
        "id": "sPHknwZY5_6m",
        "outputId": "1596ebb6-41a7-4fa7-b08b-9dc894721da2",
        "colab": {
          "base_uri": "https://localhost:8080/",
          "height": 64
        }
      },
      "source": [
        "#@title \n",
        "%%html\n",
        "<style>\n",
        "  body {background-color: #f5f5dc;}\n",
        "</style>\n",
        "<body>\n",
        "<h2 style=\"font-family: Courier;\"> Assignment </h2>\n",
        "</body>"
      ],
      "execution_count": 18,
      "outputs": [
        {
          "output_type": "display_data",
          "data": {
            "text/html": [
              "<style>\n",
              "  body {background-color: #f5f5dc;}\n",
              "</style>\n",
              "<body>\n",
              "<h2 style=\"font-family: Courier;\"> Assignment </h2>\n",
              "</body>"
            ],
            "text/plain": [
              "<IPython.core.display.HTML object>"
            ]
          },
          "metadata": {}
        }
      ]
    },
    {
      "cell_type": "code",
      "metadata": {
        "id": "aYEZYVL17yCx"
      },
      "source": [
        "A, B, C, D, E= 0, 100, 2, 1, 2"
      ],
      "execution_count": null,
      "outputs": []
    },
    {
      "cell_type": "code",
      "metadata": {
        "id": "Vrzb5isx7312"
      },
      "source": [
        "A += w\n",
        "A"
      ],
      "execution_count": null,
      "outputs": []
    },
    {
      "cell_type": "code",
      "metadata": {
        "colab": {
          "base_uri": "https://localhost:8080/"
        },
        "id": "79IGPqFe8Q7w",
        "outputId": "b28eb97d-a553-4bb3-b535-e2142f9336b0"
      },
      "source": [
        "B -= x\n"
      ],
      "execution_count": null,
      "outputs": [
        {
          "output_type": "execute_result",
          "data": {
            "text/plain": [
              "-2"
            ]
          },
          "metadata": {},
          "execution_count": 34
        }
      ]
    },
    {
      "cell_type": "code",
      "metadata": {
        "colab": {
          "base_uri": "https://localhost:8080/"
        },
        "id": "A-nEgRoO8dri",
        "outputId": "09b5a5d7-7736-4754-c9e9-afce531b889d"
      },
      "source": [
        "C *= y\n",
        "C"
      ],
      "execution_count": null,
      "outputs": [
        {
          "output_type": "execute_result",
          "data": {
            "text/plain": [
              "2"
            ]
          },
          "metadata": {},
          "execution_count": 35
        }
      ]
    },
    {
      "cell_type": "code",
      "metadata": {
        "colab": {
          "base_uri": "https://localhost:8080/"
        },
        "id": "n_H2RsZU9dzp",
        "outputId": "24ff976c-3537-4371-dad6-449a15961c31"
      },
      "source": [
        "D /= x\n",
        "D"
      ],
      "execution_count": null,
      "outputs": [
        {
          "output_type": "execute_result",
          "data": {
            "text/plain": [
              "-0.037037037037037035"
            ]
          },
          "metadata": {},
          "execution_count": 38
        }
      ]
    },
    {
      "cell_type": "code",
      "metadata": {
        "cellView": "form",
        "id": "aboSp_dl6Nl7",
        "outputId": "cbad6a51-d14f-4b02-b167-56514d553add",
        "colab": {
          "base_uri": "https://localhost:8080/",
          "height": 64
        }
      },
      "source": [
        "#@title \n",
        "%%html\n",
        "<style>\n",
        "  body {background-color: #f5f5dc;}\n",
        "</style>\n",
        "<body>\n",
        "<h2 style=\"font-family: Courier;\"> Comparators </h2>\n",
        "</body>"
      ],
      "execution_count": 19,
      "outputs": [
        {
          "output_type": "display_data",
          "data": {
            "text/html": [
              "<style>\n",
              "  body {background-color: #f5f5dc;}\n",
              "</style>\n",
              "<body>\n",
              "<h2 style=\"font-family: Courier;\"> Comparators </h2>\n",
              "</body>"
            ],
            "text/plain": [
              "<IPython.core.display.HTML object>"
            ]
          },
          "metadata": {}
        }
      ]
    },
    {
      "cell_type": "code",
      "metadata": {
        "id": "k43kCIEg_Ril"
      },
      "source": [
        "size_1, size_2, size_3 = 1, 2.0, \"1\"\n",
        "true_size = 1.0"
      ],
      "execution_count": null,
      "outputs": []
    },
    {
      "cell_type": "code",
      "metadata": {
        "colab": {
          "base_uri": "https://localhost:8080/"
        },
        "id": "TzIruEY1_hXs",
        "outputId": "344baaaa-309c-409b-a5cb-7dda3b2d5053"
      },
      "source": [
        "## Equality \n",
        "size_1 == true_size"
      ],
      "execution_count": null,
      "outputs": [
        {
          "output_type": "execute_result",
          "data": {
            "text/plain": [
              "True"
            ]
          },
          "metadata": {},
          "execution_count": 64
        }
      ]
    },
    {
      "cell_type": "code",
      "metadata": {
        "colab": {
          "base_uri": "https://localhost:8080/"
        },
        "id": "BnGOL2XB_q34",
        "outputId": "abe55b12-9863-46be-8237-eb9a595793c6"
      },
      "source": [
        "## Non Equality \n",
        "size_2 != true_size"
      ],
      "execution_count": null,
      "outputs": [
        {
          "output_type": "execute_result",
          "data": {
            "text/plain": [
              "True"
            ]
          },
          "metadata": {},
          "execution_count": 65
        }
      ]
    },
    {
      "cell_type": "code",
      "metadata": {
        "id": "1OUvT_WP_yn6"
      },
      "source": [
        "## Inequality \n",
        "s1 = size_1 > size_2\n",
        "s2 = size_1 < size_2/2\n",
        "s3 = true_size >= size_1\n",
        "s4 = size_2 <= true_size\n"
      ],
      "execution_count": null,
      "outputs": []
    },
    {
      "cell_type": "markdown",
      "metadata": {
        "id": "HhQK_FC9AJCt"
      },
      "source": [
        "## Logical\n"
      ]
    },
    {
      "cell_type": "code",
      "metadata": {
        "id": "5QOf92iVALaJ"
      },
      "source": [
        "size_1 is true_size"
      ],
      "execution_count": null,
      "outputs": []
    },
    {
      "cell_type": "code",
      "metadata": {
        "colab": {
          "base_uri": "https://localhost:8080/"
        },
        "id": "NVrpMgS3AZ9A",
        "outputId": "508c1cac-bd13-497f-da85-4290247f47e1"
      },
      "source": [
        "size_1 == true_size"
      ],
      "execution_count": null,
      "outputs": [
        {
          "output_type": "execute_result",
          "data": {
            "text/plain": [
              "True"
            ]
          },
          "metadata": {},
          "execution_count": 67
        }
      ]
    },
    {
      "cell_type": "code",
      "metadata": {
        "colab": {
          "base_uri": "https://localhost:8080/"
        },
        "id": "gdah4a1aAkNK",
        "outputId": "1c09ff5c-57a6-4d38-e8c3-0cfbc03c49c2"
      },
      "source": [
        "size_1 is not true_size"
      ],
      "execution_count": null,
      "outputs": [
        {
          "output_type": "execute_result",
          "data": {
            "text/plain": [
              "True"
            ]
          },
          "metadata": {},
          "execution_count": 68
        }
      ]
    },
    {
      "cell_type": "code",
      "metadata": {
        "colab": {
          "base_uri": "https://localhost:8080/"
        },
        "id": "NCLD_qzWAoNL",
        "outputId": "b89e0a49-d129-4d7a-a30d-b3a6e3282740"
      },
      "source": [
        "P, Q = True, False\n",
        "conj = P and Q\n",
        "conj\n"
      ],
      "execution_count": null,
      "outputs": [
        {
          "output_type": "execute_result",
          "data": {
            "text/plain": [
              "False"
            ]
          },
          "metadata": {},
          "execution_count": 73
        }
      ]
    },
    {
      "cell_type": "code",
      "metadata": {
        "colab": {
          "base_uri": "https://localhost:8080/"
        },
        "id": "ef9eU356A9sh",
        "outputId": "662ccf8a-1894-4067-b67e-11c43ae6acc6"
      },
      "source": [
        "disj = P or Q\n",
        "disj"
      ],
      "execution_count": null,
      "outputs": [
        {
          "output_type": "execute_result",
          "data": {
            "text/plain": [
              "True"
            ]
          },
          "metadata": {},
          "execution_count": 74
        }
      ]
    },
    {
      "cell_type": "code",
      "metadata": {
        "colab": {
          "base_uri": "https://localhost:8080/"
        },
        "id": "OvZ3pjqnBGYu",
        "outputId": "80e88250-7dfa-4833-85fa-20eb46649291"
      },
      "source": [
        "nand = not (P and Q)\n",
        "nand"
      ],
      "execution_count": null,
      "outputs": [
        {
          "output_type": "execute_result",
          "data": {
            "text/plain": [
              "True"
            ]
          },
          "metadata": {},
          "execution_count": 75
        }
      ]
    },
    {
      "cell_type": "code",
      "metadata": {
        "colab": {
          "base_uri": "https://localhost:8080/"
        },
        "id": "WofgjU8aBev0",
        "outputId": "6039ca36-17e8-4c5f-942e-04d4188a9727"
      },
      "source": [
        "xor = (not P and Q) or (P and not Q)\n",
        "xor"
      ],
      "execution_count": null,
      "outputs": [
        {
          "output_type": "execute_result",
          "data": {
            "text/plain": [
              "True"
            ]
          },
          "metadata": {},
          "execution_count": 76
        }
      ]
    },
    {
      "cell_type": "markdown",
      "metadata": {
        "id": "pJlExuoE69GP"
      },
      "source": [
        "## Input and Output Operations"
      ]
    },
    {
      "cell_type": "code",
      "metadata": {
        "colab": {
          "base_uri": "https://localhost:8080/"
        },
        "id": "hvku6VM0CAom",
        "outputId": "a3b72c15-b57e-407c-ee72-4c4c6fb1a88f"
      },
      "source": [
        "print(\"Hello World!\")\n",
        "cnt = 19678"
      ],
      "execution_count": 26,
      "outputs": [
        {
          "output_type": "stream",
          "name": "stdout",
          "text": [
            "Hello World!\n"
          ]
        }
      ]
    },
    {
      "cell_type": "code",
      "metadata": {
        "colab": {
          "base_uri": "https://localhost:8080/"
        },
        "id": "119VL4upCJHU",
        "outputId": "86a15c58-cb66-4652-87ce-6e1425601b53"
      },
      "source": [
        "string  = \"Hello World!\"\n",
        "print(string, \", Current COVID count is: \", cnt)\n",
        "cnt += 10000"
      ],
      "execution_count": 27,
      "outputs": [
        {
          "output_type": "stream",
          "name": "stdout",
          "text": [
            "Hello World! , Current COVID count is:  19678\n"
          ]
        }
      ]
    },
    {
      "cell_type": "code",
      "metadata": {
        "colab": {
          "base_uri": "https://localhost:8080/"
        },
        "id": "RZXMiVHYGzy-",
        "outputId": "b34bb8ff-3f19-46a3-993b-c97262234025"
      },
      "source": [
        "print(f\"{string}, current count is: {cnt}\")\n"
      ],
      "execution_count": 28,
      "outputs": [
        {
          "output_type": "stream",
          "name": "stdout",
          "text": [
            "Hello World!, current count is: 29678\n"
          ]
        }
      ]
    },
    {
      "cell_type": "code",
      "metadata": {
        "colab": {
          "base_uri": "https://localhost:8080/"
        },
        "id": "qhQmFSF8HNt6",
        "outputId": "7e344d1b-a9bf-40a6-94d3-e82db2cc80a0"
      },
      "source": [
        "sem_grade = 86.25\n",
        "name = \"Thomas\"\n",
        "print(\"Hello {}, your semestral grade is: {}\".format(name, sem_grade))"
      ],
      "execution_count": 29,
      "outputs": [
        {
          "output_type": "stream",
          "name": "stdout",
          "text": [
            "Hello Thomas, your semestral grade is: 86.25\n"
          ]
        }
      ]
    },
    {
      "cell_type": "code",
      "metadata": {
        "colab": {
          "base_uri": "https://localhost:8080/"
        },
        "id": "Q7JeeI_QHfcZ",
        "outputId": "b3a86f33-144c-4e6f-a693-377448eddf66"
      },
      "source": [
        "pg, mg, fg, = 0.3, 0.3, 0.4 \n",
        "print(\"The weights of your semestral grades are:\\\n",
        "\\n\\t {:.2%} for Prelims\\\n",
        "\\n\\t {:.2%} for Midterms, and\\\n",
        "\\n\\t {:.2%} for Finals.\".format(pg, mg, fg))\n"
      ],
      "execution_count": null,
      "outputs": [
        {
          "output_type": "stream",
          "name": "stdout",
          "text": [
            "The weights of your semestral grades are:\n",
            "\t 30.00% for Prelims\n",
            "\t 30.00% for Midterms, and\n",
            "\t 40.00% for Finals.\n"
          ]
        }
      ]
    },
    {
      "cell_type": "markdown",
      "metadata": {
        "id": "S-KIvvzdLqXQ"
      },
      "source": [
        "## Looping Statements\n"
      ]
    },
    {
      "cell_type": "code",
      "metadata": {
        "cellView": "form",
        "id": "y3NJrEWh6qMZ",
        "outputId": "340bf523-addb-46c1-f463-a60b00216774",
        "colab": {
          "base_uri": "https://localhost:8080/",
          "height": 64
        }
      },
      "source": [
        "#@title \n",
        "%%html\n",
        "<style>\n",
        "  body {background-color: #f5f5dc;}\n",
        "</style>\n",
        "<body>\n",
        "<h2 style=\"font-family: Courier;\"> While </h2>\n",
        "</body>"
      ],
      "execution_count": 21,
      "outputs": [
        {
          "output_type": "display_data",
          "data": {
            "text/html": [
              "<style>\n",
              "  body {background-color: #f5f5dc;}\n",
              "</style>\n",
              "<body>\n",
              "<h2 style=\"font-family: Courier;\"> While </h2>\n",
              "</body>"
            ],
            "text/plain": [
              "<IPython.core.display.HTML object>"
            ]
          },
          "metadata": {}
        }
      ]
    },
    {
      "cell_type": "code",
      "metadata": {
        "colab": {
          "base_uri": "https://localhost:8080/"
        },
        "id": "gSmoFql3Lsla",
        "outputId": "5127e923-0a37-47b9-a913-f8f9d1dd2cdd"
      },
      "source": [
        "## While Loops\n",
        "i, j = 0 , 10\n",
        "while(i<=j):\n",
        "  print(f\"{i}\\t|\\t{j}\")\n",
        "  i += 1"
      ],
      "execution_count": null,
      "outputs": [
        {
          "output_type": "stream",
          "name": "stdout",
          "text": [
            "0\t|\t10\n",
            "1\t|\t10\n",
            "2\t|\t10\n",
            "3\t|\t10\n",
            "4\t|\t10\n",
            "5\t|\t10\n",
            "6\t|\t10\n",
            "7\t|\t10\n",
            "8\t|\t10\n",
            "9\t|\t10\n",
            "10\t|\t10\n"
          ]
        }
      ]
    },
    {
      "cell_type": "code",
      "metadata": {
        "cellView": "form",
        "id": "kSflvsL06upm",
        "outputId": "b3832416-ee80-40dc-e279-01a32c045d3c",
        "colab": {
          "base_uri": "https://localhost:8080/",
          "height": 64
        }
      },
      "source": [
        "#@title \n",
        "%%html\n",
        "<style>\n",
        "  body {background-color: #f5f5dc;}\n",
        "</style>\n",
        "<body>\n",
        "<h2 style=\"font-family: Courier;\"> For </h2>\n",
        "</body>"
      ],
      "execution_count": 22,
      "outputs": [
        {
          "output_type": "display_data",
          "data": {
            "text/html": [
              "<style>\n",
              "  body {background-color: #f5f5dc;}\n",
              "</style>\n",
              "<body>\n",
              "<h2 style=\"font-family: Courier;\"> For </h2>\n",
              "</body>"
            ],
            "text/plain": [
              "<IPython.core.display.HTML object>"
            ]
          },
          "metadata": {}
        }
      ]
    },
    {
      "cell_type": "code",
      "metadata": {
        "colab": {
          "base_uri": "https://localhost:8080/"
        },
        "id": "od6ywBNiL9ys",
        "outputId": "d65aeecd-e2bf-4357-ab2a-da76205fe389"
      },
      "source": [
        "# for(int = 0; i<10, i++){\n",
        "# printf(i)\n",
        "# }\n",
        "i = 0 \n",
        "for i in range (10):\n",
        "  print(i)"
      ],
      "execution_count": null,
      "outputs": [
        {
          "output_type": "stream",
          "name": "stdout",
          "text": [
            "0\n",
            "1\n",
            "2\n",
            "3\n",
            "4\n",
            "5\n",
            "6\n",
            "7\n",
            "8\n",
            "9\n"
          ]
        }
      ]
    },
    {
      "cell_type": "code",
      "metadata": {
        "colab": {
          "base_uri": "https://localhost:8080/"
        },
        "id": "5QcoGf66Mr9N",
        "outputId": "108edaa9-83cc-4f38-c73f-638869e0c946"
      },
      "source": [
        "playlist = [\"Bahay Kubo\", \"Magandang Kanta\", \"Buko\"]\n",
        "print('Now Playing:\\n')\n",
        "for song in playlist:\n",
        "  print(song)\n"
      ],
      "execution_count": null,
      "outputs": [
        {
          "output_type": "stream",
          "name": "stdout",
          "text": [
            "Now Playing:\n",
            "\n",
            "Bahay Kubo\n",
            "Magandang Kanta\n",
            "Buko\n"
          ]
        }
      ]
    },
    {
      "cell_type": "markdown",
      "metadata": {
        "id": "4VDEcOFnNZZX"
      },
      "source": [
        "## Flow Control"
      ]
    },
    {
      "cell_type": "code",
      "metadata": {
        "cellView": "form",
        "id": "Etg4kR8l6f33",
        "outputId": "f72bcee3-f11f-43b5-fed8-3acfa1084099",
        "colab": {
          "base_uri": "https://localhost:8080/",
          "height": 64
        }
      },
      "source": [
        "#@title \n",
        "%%html\n",
        "<style>\n",
        "  body {background-color: #f5f5dc;}\n",
        "</style>\n",
        "<body>\n",
        "<h2 style=\"font-family: Courier;\"> Conditional Statements </h2>\n",
        "</body>"
      ],
      "execution_count": 20,
      "outputs": [
        {
          "output_type": "display_data",
          "data": {
            "text/html": [
              "<style>\n",
              "  body {background-color: #f5f5dc;}\n",
              "</style>\n",
              "<body>\n",
              "<h2 style=\"font-family: Courier;\"> Conditional Statements </h2>\n",
              "</body>"
            ],
            "text/plain": [
              "<IPython.core.display.HTML object>"
            ]
          },
          "metadata": {}
        }
      ]
    },
    {
      "cell_type": "code",
      "metadata": {
        "colab": {
          "base_uri": "https://localhost:8080/",
          "height": 0
        },
        "id": "Cbq0QyhaNbvn",
        "outputId": "54047ce6-c088-4a23-f09c-f0be16ef547c"
      },
      "source": [
        "num_1, num_2 = 14, 12\n",
        "if(num_1 == num_2):\n",
        "  print(\"HAHA\")\n",
        "elif(num_1>num_2):\n",
        "  print(\"HOHO\")\n",
        "else:\n",
        "  print(\"HUHU\")\n"
      ],
      "execution_count": 15,
      "outputs": [
        {
          "output_type": "stream",
          "name": "stdout",
          "text": [
            "HOHO\n"
          ]
        }
      ]
    },
    {
      "cell_type": "markdown",
      "metadata": {
        "id": "2EabGKP7ODGd"
      },
      "source": [
        "## Functions"
      ]
    },
    {
      "cell_type": "code",
      "metadata": {
        "id": "_g3Bl-uBOHGe"
      },
      "source": [
        "# void DeleteUser (intuserid){\n",
        "# delete(userid);\n",
        "#}\n",
        "\n",
        "def delete_user (userid):\n",
        "  print(\"Successfully deleted user: {}\".format(userid))"
      ],
      "execution_count": null,
      "outputs": []
    },
    {
      "cell_type": "code",
      "metadata": {
        "colab": {
          "base_uri": "https://localhost:8080/"
        },
        "id": "EvYhOwNoNf8b",
        "outputId": "cc7e5f3b-8c26-49dd-e054-a845d31d90b2"
      },
      "source": [
        "userid = 2020-15254\n",
        "delete_user(2020-15254)"
      ],
      "execution_count": null,
      "outputs": [
        {
          "output_type": "stream",
          "name": "stdout",
          "text": [
            "Successfully deleted user: -13234\n"
          ]
        }
      ]
    },
    {
      "cell_type": "code",
      "metadata": {
        "id": "-wzSvC-1PAO_"
      },
      "source": [
        "addend1, addend2 = 5, 6"
      ],
      "execution_count": null,
      "outputs": []
    },
    {
      "cell_type": "code",
      "metadata": {
        "id": "a4kjKmUJPEEf"
      },
      "source": [
        "def add(addend1, addend2):\n",
        "  sum = addend1 + addend2\n",
        "  return sum"
      ],
      "execution_count": null,
      "outputs": []
    },
    {
      "cell_type": "code",
      "metadata": {
        "colab": {
          "base_uri": "https://localhost:8080/"
        },
        "id": "tkM5Tt1zP9gQ",
        "outputId": "052b9688-9924-4ead-af16-6cdb5defb0ed"
      },
      "source": [
        "add (5, 4)"
      ],
      "execution_count": null,
      "outputs": [
        {
          "output_type": "execute_result",
          "data": {
            "text/plain": [
              "9"
            ]
          },
          "metadata": {},
          "execution_count": 108
        }
      ]
    }
  ]
}